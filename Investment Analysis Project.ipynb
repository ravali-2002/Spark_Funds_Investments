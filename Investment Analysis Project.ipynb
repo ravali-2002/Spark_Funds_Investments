{
 "cells": [
  {
   "cell_type": "markdown",
   "id": "07847db0",
   "metadata": {},
   "source": [
    "# Importing necessary libraries"
   ]
  },
  {
   "cell_type": "code",
   "execution_count": 1,
   "id": "f222f68b",
   "metadata": {},
   "outputs": [],
   "source": [
    "import pandas as pd\n",
    "import numpy as np\n",
    "import matplotlib.pyplot as plt\n",
    "import seaborn as sb\n",
    "import warnings\n",
    "warnings.filterwarnings('ignore')"
   ]
  },
  {
   "cell_type": "markdown",
   "id": "7d455f57",
   "metadata": {},
   "source": [
    "# Bussiness and data understanding"
   ]
  },
  {
   "cell_type": "code",
   "execution_count": 2,
   "id": "80b97afc",
   "metadata": {},
   "outputs": [],
   "source": [
    "# load companies data file\n",
    "companies=pd.read_csv('companies.txt',sep=\"\\t\",encoding='iso-8859-1')  # hit and trail"
   ]
  },
  {
   "cell_type": "code",
   "execution_count": 3,
   "id": "0aa18f13",
   "metadata": {},
   "outputs": [
    {
     "data": {
      "text/html": [
       "<div>\n",
       "<style scoped>\n",
       "    .dataframe tbody tr th:only-of-type {\n",
       "        vertical-align: middle;\n",
       "    }\n",
       "\n",
       "    .dataframe tbody tr th {\n",
       "        vertical-align: top;\n",
       "    }\n",
       "\n",
       "    .dataframe thead th {\n",
       "        text-align: right;\n",
       "    }\n",
       "</style>\n",
       "<table border=\"1\" class=\"dataframe\">\n",
       "  <thead>\n",
       "    <tr style=\"text-align: right;\">\n",
       "      <th></th>\n",
       "      <th>permalink</th>\n",
       "      <th>name</th>\n",
       "      <th>homepage_url</th>\n",
       "      <th>category_list</th>\n",
       "      <th>status</th>\n",
       "      <th>country_code</th>\n",
       "      <th>state_code</th>\n",
       "      <th>region</th>\n",
       "      <th>city</th>\n",
       "      <th>founded_at</th>\n",
       "    </tr>\n",
       "  </thead>\n",
       "  <tbody>\n",
       "    <tr>\n",
       "      <th>0</th>\n",
       "      <td>/Organization/-Fame</td>\n",
       "      <td>#fame</td>\n",
       "      <td>http://livfame.com</td>\n",
       "      <td>Media</td>\n",
       "      <td>operating</td>\n",
       "      <td>IND</td>\n",
       "      <td>16</td>\n",
       "      <td>Mumbai</td>\n",
       "      <td>Mumbai</td>\n",
       "      <td>NaN</td>\n",
       "    </tr>\n",
       "    <tr>\n",
       "      <th>1</th>\n",
       "      <td>/Organization/-Qounter</td>\n",
       "      <td>:Qounter</td>\n",
       "      <td>http://www.qounter.com</td>\n",
       "      <td>Application Platforms|Real Time|Social Network...</td>\n",
       "      <td>operating</td>\n",
       "      <td>USA</td>\n",
       "      <td>DE</td>\n",
       "      <td>DE - Other</td>\n",
       "      <td>Delaware City</td>\n",
       "      <td>04-09-2014</td>\n",
       "    </tr>\n",
       "    <tr>\n",
       "      <th>2</th>\n",
       "      <td>/Organization/-The-One-Of-Them-Inc-</td>\n",
       "      <td>(THE) ONE of THEM,Inc.</td>\n",
       "      <td>http://oneofthem.jp</td>\n",
       "      <td>Apps|Games|Mobile</td>\n",
       "      <td>operating</td>\n",
       "      <td>NaN</td>\n",
       "      <td>NaN</td>\n",
       "      <td>NaN</td>\n",
       "      <td>NaN</td>\n",
       "      <td>NaN</td>\n",
       "    </tr>\n",
       "    <tr>\n",
       "      <th>3</th>\n",
       "      <td>/Organization/0-6-Com</td>\n",
       "      <td>0-6.com</td>\n",
       "      <td>http://www.0-6.com</td>\n",
       "      <td>Curated Web</td>\n",
       "      <td>operating</td>\n",
       "      <td>CHN</td>\n",
       "      <td>22</td>\n",
       "      <td>Beijing</td>\n",
       "      <td>Beijing</td>\n",
       "      <td>01-01-2007</td>\n",
       "    </tr>\n",
       "    <tr>\n",
       "      <th>4</th>\n",
       "      <td>/Organization/004-Technologies</td>\n",
       "      <td>004 Technologies</td>\n",
       "      <td>http://004gmbh.de/en/004-interact</td>\n",
       "      <td>Software</td>\n",
       "      <td>operating</td>\n",
       "      <td>USA</td>\n",
       "      <td>IL</td>\n",
       "      <td>Springfield, Illinois</td>\n",
       "      <td>Champaign</td>\n",
       "      <td>01-01-2010</td>\n",
       "    </tr>\n",
       "  </tbody>\n",
       "</table>\n",
       "</div>"
      ],
      "text/plain": [
       "                             permalink                    name  \\\n",
       "0                  /Organization/-Fame                   #fame   \n",
       "1               /Organization/-Qounter                :Qounter   \n",
       "2  /Organization/-The-One-Of-Them-Inc-  (THE) ONE of THEM,Inc.   \n",
       "3                /Organization/0-6-Com                 0-6.com   \n",
       "4       /Organization/004-Technologies        004 Technologies   \n",
       "\n",
       "                        homepage_url  \\\n",
       "0                 http://livfame.com   \n",
       "1             http://www.qounter.com   \n",
       "2                http://oneofthem.jp   \n",
       "3                 http://www.0-6.com   \n",
       "4  http://004gmbh.de/en/004-interact   \n",
       "\n",
       "                                       category_list     status country_code  \\\n",
       "0                                              Media  operating          IND   \n",
       "1  Application Platforms|Real Time|Social Network...  operating          USA   \n",
       "2                                  Apps|Games|Mobile  operating          NaN   \n",
       "3                                        Curated Web  operating          CHN   \n",
       "4                                           Software  operating          USA   \n",
       "\n",
       "  state_code                 region           city  founded_at  \n",
       "0         16                 Mumbai         Mumbai         NaN  \n",
       "1         DE             DE - Other  Delaware City  04-09-2014  \n",
       "2        NaN                    NaN            NaN         NaN  \n",
       "3         22                Beijing        Beijing  01-01-2007  \n",
       "4         IL  Springfield, Illinois      Champaign  01-01-2010  "
      ]
     },
     "execution_count": 3,
     "metadata": {},
     "output_type": "execute_result"
    }
   ],
   "source": [
    "companies.head()"
   ]
  },
  {
   "cell_type": "markdown",
   "id": "8936cea5",
   "metadata": {},
   "source": [
    "# Checking info of companies data frame"
   ]
  },
  {
   "cell_type": "code",
   "execution_count": 4,
   "id": "f9980431",
   "metadata": {},
   "outputs": [
    {
     "name": "stdout",
     "output_type": "stream",
     "text": [
      "<class 'pandas.core.frame.DataFrame'>\n",
      "RangeIndex: 66368 entries, 0 to 66367\n",
      "Data columns (total 10 columns):\n",
      " #   Column         Non-Null Count  Dtype \n",
      "---  ------         --------------  ----- \n",
      " 0   permalink      66368 non-null  object\n",
      " 1   name           66367 non-null  object\n",
      " 2   homepage_url   61310 non-null  object\n",
      " 3   category_list  63220 non-null  object\n",
      " 4   status         66368 non-null  object\n",
      " 5   country_code   59410 non-null  object\n",
      " 6   state_code     57821 non-null  object\n",
      " 7   region         58338 non-null  object\n",
      " 8   city           58340 non-null  object\n",
      " 9   founded_at     51147 non-null  object\n",
      "dtypes: object(10)\n",
      "memory usage: 5.1+ MB\n"
     ]
    }
   ],
   "source": [
    "companies.info()"
   ]
  },
  {
   "cell_type": "markdown",
   "id": "92f6f4f4",
   "metadata": {},
   "source": [
    "#  Checking null values of companies dataframe"
   ]
  },
  {
   "cell_type": "code",
   "execution_count": 5,
   "id": "ec694101",
   "metadata": {},
   "outputs": [
    {
     "data": {
      "text/plain": [
       "permalink            0\n",
       "name                 1\n",
       "homepage_url      5058\n",
       "category_list     3148\n",
       "status               0\n",
       "country_code      6958\n",
       "state_code        8547\n",
       "region            8030\n",
       "city              8028\n",
       "founded_at       15221\n",
       "dtype: int64"
      ]
     },
     "execution_count": 5,
     "metadata": {},
     "output_type": "execute_result"
    }
   ],
   "source": [
    "companies.isnull().sum()"
   ]
  },
  {
   "cell_type": "markdown",
   "id": "d3470d5c",
   "metadata": {},
   "source": [
    "# 2nd dataset"
   ]
  },
  {
   "cell_type": "code",
   "execution_count": 6,
   "id": "493ea89a",
   "metadata": {},
   "outputs": [
    {
     "data": {
      "text/html": [
       "<div>\n",
       "<style scoped>\n",
       "    .dataframe tbody tr th:only-of-type {\n",
       "        vertical-align: middle;\n",
       "    }\n",
       "\n",
       "    .dataframe tbody tr th {\n",
       "        vertical-align: top;\n",
       "    }\n",
       "\n",
       "    .dataframe thead th {\n",
       "        text-align: right;\n",
       "    }\n",
       "</style>\n",
       "<table border=\"1\" class=\"dataframe\">\n",
       "  <thead>\n",
       "    <tr style=\"text-align: right;\">\n",
       "      <th></th>\n",
       "      <th>company_permalink</th>\n",
       "      <th>funding_round_permalink</th>\n",
       "      <th>funding_round_type</th>\n",
       "      <th>funding_round_code</th>\n",
       "      <th>funded_at</th>\n",
       "      <th>raised_amount_usd</th>\n",
       "    </tr>\n",
       "  </thead>\n",
       "  <tbody>\n",
       "    <tr>\n",
       "      <th>0</th>\n",
       "      <td>/organization/-fame</td>\n",
       "      <td>/funding-round/9a01d05418af9f794eebff7ace91f638</td>\n",
       "      <td>venture</td>\n",
       "      <td>B</td>\n",
       "      <td>05-01-2015</td>\n",
       "      <td>10000000.0</td>\n",
       "    </tr>\n",
       "    <tr>\n",
       "      <th>1</th>\n",
       "      <td>/ORGANIZATION/-QOUNTER</td>\n",
       "      <td>/funding-round/22dacff496eb7acb2b901dec1dfe5633</td>\n",
       "      <td>venture</td>\n",
       "      <td>A</td>\n",
       "      <td>14-10-2014</td>\n",
       "      <td>NaN</td>\n",
       "    </tr>\n",
       "    <tr>\n",
       "      <th>2</th>\n",
       "      <td>/organization/-qounter</td>\n",
       "      <td>/funding-round/b44fbb94153f6cdef13083530bb48030</td>\n",
       "      <td>seed</td>\n",
       "      <td>NaN</td>\n",
       "      <td>01-03-2014</td>\n",
       "      <td>700000.0</td>\n",
       "    </tr>\n",
       "    <tr>\n",
       "      <th>3</th>\n",
       "      <td>/ORGANIZATION/-THE-ONE-OF-THEM-INC-</td>\n",
       "      <td>/funding-round/650b8f704416801069bb178a1418776b</td>\n",
       "      <td>venture</td>\n",
       "      <td>B</td>\n",
       "      <td>30-01-2014</td>\n",
       "      <td>3406878.0</td>\n",
       "    </tr>\n",
       "    <tr>\n",
       "      <th>4</th>\n",
       "      <td>/organization/0-6-com</td>\n",
       "      <td>/funding-round/5727accaeaa57461bd22a9bdd945382d</td>\n",
       "      <td>venture</td>\n",
       "      <td>A</td>\n",
       "      <td>19-03-2008</td>\n",
       "      <td>2000000.0</td>\n",
       "    </tr>\n",
       "  </tbody>\n",
       "</table>\n",
       "</div>"
      ],
      "text/plain": [
       "                     company_permalink  \\\n",
       "0                  /organization/-fame   \n",
       "1               /ORGANIZATION/-QOUNTER   \n",
       "2               /organization/-qounter   \n",
       "3  /ORGANIZATION/-THE-ONE-OF-THEM-INC-   \n",
       "4                /organization/0-6-com   \n",
       "\n",
       "                           funding_round_permalink funding_round_type  \\\n",
       "0  /funding-round/9a01d05418af9f794eebff7ace91f638            venture   \n",
       "1  /funding-round/22dacff496eb7acb2b901dec1dfe5633            venture   \n",
       "2  /funding-round/b44fbb94153f6cdef13083530bb48030               seed   \n",
       "3  /funding-round/650b8f704416801069bb178a1418776b            venture   \n",
       "4  /funding-round/5727accaeaa57461bd22a9bdd945382d            venture   \n",
       "\n",
       "  funding_round_code   funded_at  raised_amount_usd  \n",
       "0                  B  05-01-2015         10000000.0  \n",
       "1                  A  14-10-2014                NaN  \n",
       "2                NaN  01-03-2014           700000.0  \n",
       "3                  B  30-01-2014          3406878.0  \n",
       "4                  A  19-03-2008          2000000.0  "
      ]
     },
     "execution_count": 6,
     "metadata": {},
     "output_type": "execute_result"
    }
   ],
   "source": [
    "# load rounds2 data file\n",
    "rounds2=pd.read_csv('rounds2.csv',encoding='iso-8859-1')\n",
    "rounds2.head()"
   ]
  },
  {
   "cell_type": "markdown",
   "id": "38fe0b4e",
   "metadata": {},
   "source": [
    "# Checking info of rounds2 dataframe"
   ]
  },
  {
   "cell_type": "code",
   "execution_count": 7,
   "id": "f3bf946e",
   "metadata": {},
   "outputs": [
    {
     "name": "stdout",
     "output_type": "stream",
     "text": [
      "<class 'pandas.core.frame.DataFrame'>\n",
      "RangeIndex: 114949 entries, 0 to 114948\n",
      "Data columns (total 6 columns):\n",
      " #   Column                   Non-Null Count   Dtype  \n",
      "---  ------                   --------------   -----  \n",
      " 0   company_permalink        114949 non-null  object \n",
      " 1   funding_round_permalink  114949 non-null  object \n",
      " 2   funding_round_type       114949 non-null  object \n",
      " 3   funding_round_code       31140 non-null   object \n",
      " 4   funded_at                114949 non-null  object \n",
      " 5   raised_amount_usd        94959 non-null   float64\n",
      "dtypes: float64(1), object(5)\n",
      "memory usage: 5.3+ MB\n"
     ]
    }
   ],
   "source": [
    "rounds2.info()"
   ]
  },
  {
   "cell_type": "markdown",
   "id": "1fe6a3cc",
   "metadata": {},
   "source": [
    "# Checking null values of rounds2 dataframe"
   ]
  },
  {
   "cell_type": "code",
   "execution_count": 8,
   "id": "815e7bc2",
   "metadata": {},
   "outputs": [
    {
     "data": {
      "text/plain": [
       "company_permalink              0\n",
       "funding_round_permalink        0\n",
       "funding_round_type             0\n",
       "funding_round_code         83809\n",
       "funded_at                      0\n",
       "raised_amount_usd          19990\n",
       "dtype: int64"
      ]
     },
     "execution_count": 8,
     "metadata": {},
     "output_type": "execute_result"
    }
   ],
   "source": [
    "rounds2.isnull().sum()"
   ]
  },
  {
   "cell_type": "markdown",
   "id": "b1389d6c",
   "metadata": {},
   "source": [
    "# dropping columns (unnecessary) from both data frames"
   ]
  },
  {
   "cell_type": "code",
   "execution_count": 9,
   "id": "b84dfc4e",
   "metadata": {},
   "outputs": [
    {
     "data": {
      "text/plain": [
       "Index(['permalink', 'name', 'homepage_url', 'category_list', 'status',\n",
       "       'country_code', 'state_code', 'region', 'city', 'founded_at'],\n",
       "      dtype='object')"
      ]
     },
     "execution_count": 9,
     "metadata": {},
     "output_type": "execute_result"
    }
   ],
   "source": [
    "companies.columns"
   ]
  },
  {
   "cell_type": "code",
   "execution_count": 10,
   "id": "777e5c74",
   "metadata": {},
   "outputs": [
    {
     "data": {
      "text/plain": [
       "Index(['company_permalink', 'funding_round_permalink', 'funding_round_type',\n",
       "       'funding_round_code', 'funded_at', 'raised_amount_usd'],\n",
       "      dtype='object')"
      ]
     },
     "execution_count": 10,
     "metadata": {},
     "output_type": "execute_result"
    }
   ],
   "source": [
    "rounds2.columns"
   ]
  },
  {
   "cell_type": "code",
   "execution_count": 11,
   "id": "496033bf",
   "metadata": {},
   "outputs": [],
   "source": [
    "cols1=[\"homepage_url\",\"status\",\"state_code\",\"region\",\"city\",\"founded_at\"]\n",
    "cols2=['funding_round_permalink','funded_at','funding_round_code']\n",
    "rounds2.drop(cols2,axis=1,inplace=True)"
   ]
  },
  {
   "cell_type": "code",
   "execution_count": 12,
   "id": "b9003e98",
   "metadata": {},
   "outputs": [],
   "source": [
    "companies.drop(cols1,axis=1,inplace=True)"
   ]
  },
  {
   "cell_type": "code",
   "execution_count": 13,
   "id": "3ef53708",
   "metadata": {},
   "outputs": [
    {
     "data": {
      "text/html": [
       "<div>\n",
       "<style scoped>\n",
       "    .dataframe tbody tr th:only-of-type {\n",
       "        vertical-align: middle;\n",
       "    }\n",
       "\n",
       "    .dataframe tbody tr th {\n",
       "        vertical-align: top;\n",
       "    }\n",
       "\n",
       "    .dataframe thead th {\n",
       "        text-align: right;\n",
       "    }\n",
       "</style>\n",
       "<table border=\"1\" class=\"dataframe\">\n",
       "  <thead>\n",
       "    <tr style=\"text-align: right;\">\n",
       "      <th></th>\n",
       "      <th>company_permalink</th>\n",
       "      <th>funding_round_type</th>\n",
       "      <th>raised_amount_usd</th>\n",
       "    </tr>\n",
       "  </thead>\n",
       "  <tbody>\n",
       "    <tr>\n",
       "      <th>0</th>\n",
       "      <td>/organization/-fame</td>\n",
       "      <td>venture</td>\n",
       "      <td>10000000.0</td>\n",
       "    </tr>\n",
       "    <tr>\n",
       "      <th>1</th>\n",
       "      <td>/ORGANIZATION/-QOUNTER</td>\n",
       "      <td>venture</td>\n",
       "      <td>NaN</td>\n",
       "    </tr>\n",
       "    <tr>\n",
       "      <th>2</th>\n",
       "      <td>/organization/-qounter</td>\n",
       "      <td>seed</td>\n",
       "      <td>700000.0</td>\n",
       "    </tr>\n",
       "    <tr>\n",
       "      <th>3</th>\n",
       "      <td>/ORGANIZATION/-THE-ONE-OF-THEM-INC-</td>\n",
       "      <td>venture</td>\n",
       "      <td>3406878.0</td>\n",
       "    </tr>\n",
       "    <tr>\n",
       "      <th>4</th>\n",
       "      <td>/organization/0-6-com</td>\n",
       "      <td>venture</td>\n",
       "      <td>2000000.0</td>\n",
       "    </tr>\n",
       "  </tbody>\n",
       "</table>\n",
       "</div>"
      ],
      "text/plain": [
       "                     company_permalink funding_round_type  raised_amount_usd\n",
       "0                  /organization/-fame            venture         10000000.0\n",
       "1               /ORGANIZATION/-QOUNTER            venture                NaN\n",
       "2               /organization/-qounter               seed           700000.0\n",
       "3  /ORGANIZATION/-THE-ONE-OF-THEM-INC-            venture          3406878.0\n",
       "4                /organization/0-6-com            venture          2000000.0"
      ]
     },
     "execution_count": 13,
     "metadata": {},
     "output_type": "execute_result"
    }
   ],
   "source": [
    "rounds2.head()"
   ]
  },
  {
   "cell_type": "code",
   "execution_count": 14,
   "id": "74a4f282",
   "metadata": {},
   "outputs": [
    {
     "data": {
      "text/html": [
       "<div>\n",
       "<style scoped>\n",
       "    .dataframe tbody tr th:only-of-type {\n",
       "        vertical-align: middle;\n",
       "    }\n",
       "\n",
       "    .dataframe tbody tr th {\n",
       "        vertical-align: top;\n",
       "    }\n",
       "\n",
       "    .dataframe thead th {\n",
       "        text-align: right;\n",
       "    }\n",
       "</style>\n",
       "<table border=\"1\" class=\"dataframe\">\n",
       "  <thead>\n",
       "    <tr style=\"text-align: right;\">\n",
       "      <th></th>\n",
       "      <th>permalink</th>\n",
       "      <th>name</th>\n",
       "      <th>category_list</th>\n",
       "      <th>country_code</th>\n",
       "    </tr>\n",
       "  </thead>\n",
       "  <tbody>\n",
       "    <tr>\n",
       "      <th>0</th>\n",
       "      <td>/Organization/-Fame</td>\n",
       "      <td>#fame</td>\n",
       "      <td>Media</td>\n",
       "      <td>IND</td>\n",
       "    </tr>\n",
       "    <tr>\n",
       "      <th>1</th>\n",
       "      <td>/Organization/-Qounter</td>\n",
       "      <td>:Qounter</td>\n",
       "      <td>Application Platforms|Real Time|Social Network...</td>\n",
       "      <td>USA</td>\n",
       "    </tr>\n",
       "    <tr>\n",
       "      <th>2</th>\n",
       "      <td>/Organization/-The-One-Of-Them-Inc-</td>\n",
       "      <td>(THE) ONE of THEM,Inc.</td>\n",
       "      <td>Apps|Games|Mobile</td>\n",
       "      <td>NaN</td>\n",
       "    </tr>\n",
       "    <tr>\n",
       "      <th>3</th>\n",
       "      <td>/Organization/0-6-Com</td>\n",
       "      <td>0-6.com</td>\n",
       "      <td>Curated Web</td>\n",
       "      <td>CHN</td>\n",
       "    </tr>\n",
       "    <tr>\n",
       "      <th>4</th>\n",
       "      <td>/Organization/004-Technologies</td>\n",
       "      <td>004 Technologies</td>\n",
       "      <td>Software</td>\n",
       "      <td>USA</td>\n",
       "    </tr>\n",
       "  </tbody>\n",
       "</table>\n",
       "</div>"
      ],
      "text/plain": [
       "                             permalink                    name  \\\n",
       "0                  /Organization/-Fame                   #fame   \n",
       "1               /Organization/-Qounter                :Qounter   \n",
       "2  /Organization/-The-One-Of-Them-Inc-  (THE) ONE of THEM,Inc.   \n",
       "3                /Organization/0-6-Com                 0-6.com   \n",
       "4       /Organization/004-Technologies        004 Technologies   \n",
       "\n",
       "                                       category_list country_code  \n",
       "0                                              Media          IND  \n",
       "1  Application Platforms|Real Time|Social Network...          USA  \n",
       "2                                  Apps|Games|Mobile          NaN  \n",
       "3                                        Curated Web          CHN  \n",
       "4                                           Software          USA  "
      ]
     },
     "execution_count": 14,
     "metadata": {},
     "output_type": "execute_result"
    }
   ],
   "source": [
    "companies.head()"
   ]
  },
  {
   "cell_type": "markdown",
   "id": "581463f8",
   "metadata": {},
   "source": [
    "#### How many unique companies are present in companies file?"
   ]
  },
  {
   "cell_type": "code",
   "execution_count": 15,
   "id": "f97880fc",
   "metadata": {},
   "outputs": [],
   "source": [
    "#convert the data of permalink column into lower case for checking the unique companies in companies dataframe\n",
    "companies['permalink']=companies['permalink'].str.lower()"
   ]
  },
  {
   "cell_type": "code",
   "execution_count": 16,
   "id": "d58d3f7a",
   "metadata": {},
   "outputs": [
    {
     "data": {
      "text/html": [
       "<div>\n",
       "<style scoped>\n",
       "    .dataframe tbody tr th:only-of-type {\n",
       "        vertical-align: middle;\n",
       "    }\n",
       "\n",
       "    .dataframe tbody tr th {\n",
       "        vertical-align: top;\n",
       "    }\n",
       "\n",
       "    .dataframe thead th {\n",
       "        text-align: right;\n",
       "    }\n",
       "</style>\n",
       "<table border=\"1\" class=\"dataframe\">\n",
       "  <thead>\n",
       "    <tr style=\"text-align: right;\">\n",
       "      <th></th>\n",
       "      <th>permalink</th>\n",
       "      <th>name</th>\n",
       "      <th>category_list</th>\n",
       "      <th>country_code</th>\n",
       "    </tr>\n",
       "  </thead>\n",
       "  <tbody>\n",
       "    <tr>\n",
       "      <th>0</th>\n",
       "      <td>/organization/-fame</td>\n",
       "      <td>#fame</td>\n",
       "      <td>Media</td>\n",
       "      <td>IND</td>\n",
       "    </tr>\n",
       "    <tr>\n",
       "      <th>1</th>\n",
       "      <td>/organization/-qounter</td>\n",
       "      <td>:Qounter</td>\n",
       "      <td>Application Platforms|Real Time|Social Network...</td>\n",
       "      <td>USA</td>\n",
       "    </tr>\n",
       "    <tr>\n",
       "      <th>2</th>\n",
       "      <td>/organization/-the-one-of-them-inc-</td>\n",
       "      <td>(THE) ONE of THEM,Inc.</td>\n",
       "      <td>Apps|Games|Mobile</td>\n",
       "      <td>NaN</td>\n",
       "    </tr>\n",
       "    <tr>\n",
       "      <th>3</th>\n",
       "      <td>/organization/0-6-com</td>\n",
       "      <td>0-6.com</td>\n",
       "      <td>Curated Web</td>\n",
       "      <td>CHN</td>\n",
       "    </tr>\n",
       "    <tr>\n",
       "      <th>4</th>\n",
       "      <td>/organization/004-technologies</td>\n",
       "      <td>004 Technologies</td>\n",
       "      <td>Software</td>\n",
       "      <td>USA</td>\n",
       "    </tr>\n",
       "  </tbody>\n",
       "</table>\n",
       "</div>"
      ],
      "text/plain": [
       "                             permalink                    name  \\\n",
       "0                  /organization/-fame                   #fame   \n",
       "1               /organization/-qounter                :Qounter   \n",
       "2  /organization/-the-one-of-them-inc-  (THE) ONE of THEM,Inc.   \n",
       "3                /organization/0-6-com                 0-6.com   \n",
       "4       /organization/004-technologies        004 Technologies   \n",
       "\n",
       "                                       category_list country_code  \n",
       "0                                              Media          IND  \n",
       "1  Application Platforms|Real Time|Social Network...          USA  \n",
       "2                                  Apps|Games|Mobile          NaN  \n",
       "3                                        Curated Web          CHN  \n",
       "4                                           Software          USA  "
      ]
     },
     "execution_count": 16,
     "metadata": {},
     "output_type": "execute_result"
    }
   ],
   "source": [
    "companies.head()"
   ]
  },
  {
   "cell_type": "code",
   "execution_count": 17,
   "id": "240a3df7",
   "metadata": {},
   "outputs": [
    {
     "data": {
      "text/plain": [
       "66368"
      ]
     },
     "execution_count": 17,
     "metadata": {},
     "output_type": "execute_result"
    }
   ],
   "source": [
    "#check unique companies\n",
    "companies['permalink'].nunique()"
   ]
  },
  {
   "cell_type": "markdown",
   "id": "bcd43ca6",
   "metadata": {},
   "source": [
    "#### How many unique companies are present in rounds2?"
   ]
  },
  {
   "cell_type": "code",
   "execution_count": 18,
   "id": "3a9bd1c7",
   "metadata": {},
   "outputs": [],
   "source": [
    "#convert the company permalink data into lower case for checking the unique companies in rounds2 \n",
    "rounds2['company_permalink']=rounds2['company_permalink'].str.lower()"
   ]
  },
  {
   "cell_type": "code",
   "execution_count": 19,
   "id": "97c3a287",
   "metadata": {},
   "outputs": [
    {
     "data": {
      "text/html": [
       "<div>\n",
       "<style scoped>\n",
       "    .dataframe tbody tr th:only-of-type {\n",
       "        vertical-align: middle;\n",
       "    }\n",
       "\n",
       "    .dataframe tbody tr th {\n",
       "        vertical-align: top;\n",
       "    }\n",
       "\n",
       "    .dataframe thead th {\n",
       "        text-align: right;\n",
       "    }\n",
       "</style>\n",
       "<table border=\"1\" class=\"dataframe\">\n",
       "  <thead>\n",
       "    <tr style=\"text-align: right;\">\n",
       "      <th></th>\n",
       "      <th>company_permalink</th>\n",
       "      <th>funding_round_type</th>\n",
       "      <th>raised_amount_usd</th>\n",
       "    </tr>\n",
       "  </thead>\n",
       "  <tbody>\n",
       "    <tr>\n",
       "      <th>0</th>\n",
       "      <td>/organization/-fame</td>\n",
       "      <td>venture</td>\n",
       "      <td>10000000.0</td>\n",
       "    </tr>\n",
       "    <tr>\n",
       "      <th>1</th>\n",
       "      <td>/organization/-qounter</td>\n",
       "      <td>venture</td>\n",
       "      <td>NaN</td>\n",
       "    </tr>\n",
       "    <tr>\n",
       "      <th>2</th>\n",
       "      <td>/organization/-qounter</td>\n",
       "      <td>seed</td>\n",
       "      <td>700000.0</td>\n",
       "    </tr>\n",
       "    <tr>\n",
       "      <th>3</th>\n",
       "      <td>/organization/-the-one-of-them-inc-</td>\n",
       "      <td>venture</td>\n",
       "      <td>3406878.0</td>\n",
       "    </tr>\n",
       "    <tr>\n",
       "      <th>4</th>\n",
       "      <td>/organization/0-6-com</td>\n",
       "      <td>venture</td>\n",
       "      <td>2000000.0</td>\n",
       "    </tr>\n",
       "  </tbody>\n",
       "</table>\n",
       "</div>"
      ],
      "text/plain": [
       "                     company_permalink funding_round_type  raised_amount_usd\n",
       "0                  /organization/-fame            venture         10000000.0\n",
       "1               /organization/-qounter            venture                NaN\n",
       "2               /organization/-qounter               seed           700000.0\n",
       "3  /organization/-the-one-of-them-inc-            venture          3406878.0\n",
       "4                /organization/0-6-com            venture          2000000.0"
      ]
     },
     "execution_count": 19,
     "metadata": {},
     "output_type": "execute_result"
    }
   ],
   "source": [
    "rounds2.head()"
   ]
  },
  {
   "cell_type": "code",
   "execution_count": 20,
   "id": "79e2e77c",
   "metadata": {},
   "outputs": [
    {
     "data": {
      "text/plain": [
       "66370"
      ]
     },
     "execution_count": 20,
     "metadata": {},
     "output_type": "execute_result"
    }
   ],
   "source": [
    "#check unique companies\n",
    "rounds2['company_permalink'].nunique()"
   ]
  },
  {
   "cell_type": "markdown",
   "id": "33c3903c",
   "metadata": {},
   "source": [
    "#### Merge the two data frames so that all  variables (columns)  in the companies frame are added to the rounds2 data frame. Name the merged frame master_frame. How many observations are present in master_frame ?"
   ]
  },
  {
   "cell_type": "code",
   "execution_count": 21,
   "id": "45f956fa",
   "metadata": {},
   "outputs": [
    {
     "data": {
      "text/html": [
       "<div>\n",
       "<style scoped>\n",
       "    .dataframe tbody tr th:only-of-type {\n",
       "        vertical-align: middle;\n",
       "    }\n",
       "\n",
       "    .dataframe tbody tr th {\n",
       "        vertical-align: top;\n",
       "    }\n",
       "\n",
       "    .dataframe thead th {\n",
       "        text-align: right;\n",
       "    }\n",
       "</style>\n",
       "<table border=\"1\" class=\"dataframe\">\n",
       "  <thead>\n",
       "    <tr style=\"text-align: right;\">\n",
       "      <th></th>\n",
       "      <th>permalink</th>\n",
       "      <th>name</th>\n",
       "      <th>category_list</th>\n",
       "      <th>country_code</th>\n",
       "      <th>funding_round_type</th>\n",
       "      <th>raised_amount_usd</th>\n",
       "    </tr>\n",
       "  </thead>\n",
       "  <tbody>\n",
       "    <tr>\n",
       "      <th>0</th>\n",
       "      <td>/organization/-fame</td>\n",
       "      <td>#fame</td>\n",
       "      <td>Media</td>\n",
       "      <td>IND</td>\n",
       "      <td>venture</td>\n",
       "      <td>10000000.0</td>\n",
       "    </tr>\n",
       "    <tr>\n",
       "      <th>1</th>\n",
       "      <td>/organization/-qounter</td>\n",
       "      <td>:Qounter</td>\n",
       "      <td>Application Platforms|Real Time|Social Network...</td>\n",
       "      <td>USA</td>\n",
       "      <td>venture</td>\n",
       "      <td>NaN</td>\n",
       "    </tr>\n",
       "    <tr>\n",
       "      <th>2</th>\n",
       "      <td>/organization/-qounter</td>\n",
       "      <td>:Qounter</td>\n",
       "      <td>Application Platforms|Real Time|Social Network...</td>\n",
       "      <td>USA</td>\n",
       "      <td>seed</td>\n",
       "      <td>700000.0</td>\n",
       "    </tr>\n",
       "    <tr>\n",
       "      <th>3</th>\n",
       "      <td>/organization/-the-one-of-them-inc-</td>\n",
       "      <td>(THE) ONE of THEM,Inc.</td>\n",
       "      <td>Apps|Games|Mobile</td>\n",
       "      <td>NaN</td>\n",
       "      <td>venture</td>\n",
       "      <td>3406878.0</td>\n",
       "    </tr>\n",
       "    <tr>\n",
       "      <th>4</th>\n",
       "      <td>/organization/0-6-com</td>\n",
       "      <td>0-6.com</td>\n",
       "      <td>Curated Web</td>\n",
       "      <td>CHN</td>\n",
       "      <td>venture</td>\n",
       "      <td>2000000.0</td>\n",
       "    </tr>\n",
       "  </tbody>\n",
       "</table>\n",
       "</div>"
      ],
      "text/plain": [
       "                             permalink                    name  \\\n",
       "0                  /organization/-fame                   #fame   \n",
       "1               /organization/-qounter                :Qounter   \n",
       "2               /organization/-qounter                :Qounter   \n",
       "3  /organization/-the-one-of-them-inc-  (THE) ONE of THEM,Inc.   \n",
       "4                /organization/0-6-com                 0-6.com   \n",
       "\n",
       "                                       category_list country_code  \\\n",
       "0                                              Media          IND   \n",
       "1  Application Platforms|Real Time|Social Network...          USA   \n",
       "2  Application Platforms|Real Time|Social Network...          USA   \n",
       "3                                  Apps|Games|Mobile          NaN   \n",
       "4                                        Curated Web          CHN   \n",
       "\n",
       "  funding_round_type  raised_amount_usd  \n",
       "0            venture         10000000.0  \n",
       "1            venture                NaN  \n",
       "2               seed           700000.0  \n",
       "3            venture          3406878.0  \n",
       "4            venture          2000000.0  "
      ]
     },
     "execution_count": 21,
     "metadata": {},
     "output_type": "execute_result"
    }
   ],
   "source": [
    "#merging of two data frames\n",
    "rounds2.rename(columns={'company_permalink':'permalink'},inplace=True)\n",
    "master_frame=pd.merge(companies,rounds2,how=\"inner\",on=\"permalink\")\n",
    "master_frame.head()"
   ]
  },
  {
   "cell_type": "code",
   "execution_count": 22,
   "id": "cbf26305",
   "metadata": {},
   "outputs": [
    {
     "name": "stdout",
     "output_type": "stream",
     "text": [
      "<class 'pandas.core.frame.DataFrame'>\n",
      "Int64Index: 114942 entries, 0 to 114941\n",
      "Data columns (total 6 columns):\n",
      " #   Column              Non-Null Count   Dtype  \n",
      "---  ------              --------------   -----  \n",
      " 0   permalink           114942 non-null  object \n",
      " 1   name                114941 non-null  object \n",
      " 2   category_list       111535 non-null  object \n",
      " 3   country_code        106271 non-null  object \n",
      " 4   funding_round_type  114942 non-null  object \n",
      " 5   raised_amount_usd   94958 non-null   float64\n",
      "dtypes: float64(1), object(5)\n",
      "memory usage: 6.1+ MB\n"
     ]
    }
   ],
   "source": [
    "#check the master_frame info\n",
    "master_frame.info()"
   ]
  },
  {
   "cell_type": "markdown",
   "id": "307607c4",
   "metadata": {},
   "source": [
    "# Checking null values of master_frame"
   ]
  },
  {
   "cell_type": "code",
   "execution_count": 23,
   "id": "5d0c8cf8",
   "metadata": {},
   "outputs": [
    {
     "data": {
      "text/plain": [
       "permalink                 0\n",
       "name                      1\n",
       "category_list          3407\n",
       "country_code           8671\n",
       "funding_round_type        0\n",
       "raised_amount_usd     19984\n",
       "dtype: int64"
      ]
     },
     "execution_count": 23,
     "metadata": {},
     "output_type": "execute_result"
    }
   ],
   "source": [
    "master_frame.isnull().sum()"
   ]
  },
  {
   "cell_type": "markdown",
   "id": "c83b617a",
   "metadata": {},
   "source": [
    "# Checking percentage of null values"
   ]
  },
  {
   "cell_type": "code",
   "execution_count": 24,
   "id": "f60ec6ce",
   "metadata": {},
   "outputs": [
    {
     "data": {
      "text/plain": [
       "permalink              0.00\n",
       "name                   0.00\n",
       "category_list          2.96\n",
       "country_code           7.54\n",
       "funding_round_type     0.00\n",
       "raised_amount_usd     17.39\n",
       "dtype: float64"
      ]
     },
     "execution_count": 24,
     "metadata": {},
     "output_type": "execute_result"
    }
   ],
   "source": [
    "round((100*master_frame.isnull().sum())/len(master_frame),2)"
   ]
  },
  {
   "cell_type": "code",
   "execution_count": 25,
   "id": "b4b3a8d6",
   "metadata": {},
   "outputs": [],
   "source": [
    "master_frame2=master_frame[master_frame.isnull().sum(axis=1)<2]"
   ]
  },
  {
   "cell_type": "code",
   "execution_count": 26,
   "id": "84d513db",
   "metadata": {},
   "outputs": [
    {
     "data": {
      "text/html": [
       "<div>\n",
       "<style scoped>\n",
       "    .dataframe tbody tr th:only-of-type {\n",
       "        vertical-align: middle;\n",
       "    }\n",
       "\n",
       "    .dataframe tbody tr th {\n",
       "        vertical-align: top;\n",
       "    }\n",
       "\n",
       "    .dataframe thead th {\n",
       "        text-align: right;\n",
       "    }\n",
       "</style>\n",
       "<table border=\"1\" class=\"dataframe\">\n",
       "  <thead>\n",
       "    <tr style=\"text-align: right;\">\n",
       "      <th></th>\n",
       "      <th>permalink</th>\n",
       "      <th>name</th>\n",
       "      <th>category_list</th>\n",
       "      <th>country_code</th>\n",
       "      <th>funding_round_type</th>\n",
       "      <th>raised_amount_usd</th>\n",
       "    </tr>\n",
       "  </thead>\n",
       "  <tbody>\n",
       "    <tr>\n",
       "      <th>0</th>\n",
       "      <td>/organization/-fame</td>\n",
       "      <td>#fame</td>\n",
       "      <td>Media</td>\n",
       "      <td>IND</td>\n",
       "      <td>venture</td>\n",
       "      <td>10000000.0</td>\n",
       "    </tr>\n",
       "    <tr>\n",
       "      <th>1</th>\n",
       "      <td>/organization/-qounter</td>\n",
       "      <td>:Qounter</td>\n",
       "      <td>Application Platforms|Real Time|Social Network...</td>\n",
       "      <td>USA</td>\n",
       "      <td>venture</td>\n",
       "      <td>NaN</td>\n",
       "    </tr>\n",
       "    <tr>\n",
       "      <th>2</th>\n",
       "      <td>/organization/-qounter</td>\n",
       "      <td>:Qounter</td>\n",
       "      <td>Application Platforms|Real Time|Social Network...</td>\n",
       "      <td>USA</td>\n",
       "      <td>seed</td>\n",
       "      <td>700000.0</td>\n",
       "    </tr>\n",
       "    <tr>\n",
       "      <th>3</th>\n",
       "      <td>/organization/-the-one-of-them-inc-</td>\n",
       "      <td>(THE) ONE of THEM,Inc.</td>\n",
       "      <td>Apps|Games|Mobile</td>\n",
       "      <td>NaN</td>\n",
       "      <td>venture</td>\n",
       "      <td>3406878.0</td>\n",
       "    </tr>\n",
       "    <tr>\n",
       "      <th>4</th>\n",
       "      <td>/organization/0-6-com</td>\n",
       "      <td>0-6.com</td>\n",
       "      <td>Curated Web</td>\n",
       "      <td>CHN</td>\n",
       "      <td>venture</td>\n",
       "      <td>2000000.0</td>\n",
       "    </tr>\n",
       "  </tbody>\n",
       "</table>\n",
       "</div>"
      ],
      "text/plain": [
       "                             permalink                    name  \\\n",
       "0                  /organization/-fame                   #fame   \n",
       "1               /organization/-qounter                :Qounter   \n",
       "2               /organization/-qounter                :Qounter   \n",
       "3  /organization/-the-one-of-them-inc-  (THE) ONE of THEM,Inc.   \n",
       "4                /organization/0-6-com                 0-6.com   \n",
       "\n",
       "                                       category_list country_code  \\\n",
       "0                                              Media          IND   \n",
       "1  Application Platforms|Real Time|Social Network...          USA   \n",
       "2  Application Platforms|Real Time|Social Network...          USA   \n",
       "3                                  Apps|Games|Mobile          NaN   \n",
       "4                                        Curated Web          CHN   \n",
       "\n",
       "  funding_round_type  raised_amount_usd  \n",
       "0            venture         10000000.0  \n",
       "1            venture                NaN  \n",
       "2               seed           700000.0  \n",
       "3            venture          3406878.0  \n",
       "4            venture          2000000.0  "
      ]
     },
     "execution_count": 26,
     "metadata": {},
     "output_type": "execute_result"
    }
   ],
   "source": [
    "master_frame2.head()"
   ]
  },
  {
   "cell_type": "code",
   "execution_count": 27,
   "id": "071d9b02",
   "metadata": {},
   "outputs": [
    {
     "data": {
      "text/plain": [
       "permalink              0.00\n",
       "name                   0.00\n",
       "category_list          0.50\n",
       "country_code           4.68\n",
       "funding_round_type     0.00\n",
       "raised_amount_usd     13.92\n",
       "dtype: float64"
      ]
     },
     "execution_count": 27,
     "metadata": {},
     "output_type": "execute_result"
    }
   ],
   "source": [
    "round((100*master_frame2.isnull().sum())/len(master_frame),2)"
   ]
  },
  {
   "cell_type": "code",
   "execution_count": 28,
   "id": "929e0b0f",
   "metadata": {},
   "outputs": [],
   "source": [
    "master_frame2.dropna(inplace=True)"
   ]
  },
  {
   "cell_type": "code",
   "execution_count": 29,
   "id": "3b6542dc",
   "metadata": {},
   "outputs": [
    {
     "data": {
      "text/plain": [
       "permalink             0.0\n",
       "name                  0.0\n",
       "category_list         0.0\n",
       "country_code          0.0\n",
       "funding_round_type    0.0\n",
       "raised_amount_usd     0.0\n",
       "dtype: float64"
      ]
     },
     "execution_count": 29,
     "metadata": {},
     "output_type": "execute_result"
    }
   ],
   "source": [
    "round((100*master_frame2.isnull().sum())/len(master_frame),2)"
   ]
  },
  {
   "cell_type": "code",
   "execution_count": 30,
   "id": "1b0a1d4f",
   "metadata": {},
   "outputs": [
    {
     "data": {
      "text/html": [
       "<div>\n",
       "<style scoped>\n",
       "    .dataframe tbody tr th:only-of-type {\n",
       "        vertical-align: middle;\n",
       "    }\n",
       "\n",
       "    .dataframe tbody tr th {\n",
       "        vertical-align: top;\n",
       "    }\n",
       "\n",
       "    .dataframe thead th {\n",
       "        text-align: right;\n",
       "    }\n",
       "</style>\n",
       "<table border=\"1\" class=\"dataframe\">\n",
       "  <thead>\n",
       "    <tr style=\"text-align: right;\">\n",
       "      <th></th>\n",
       "      <th>permalink</th>\n",
       "      <th>name</th>\n",
       "      <th>category_list</th>\n",
       "      <th>country_code</th>\n",
       "      <th>funding_round_type</th>\n",
       "      <th>raised_amount_usd</th>\n",
       "    </tr>\n",
       "  </thead>\n",
       "  <tbody>\n",
       "    <tr>\n",
       "      <th>0</th>\n",
       "      <td>/organization/-fame</td>\n",
       "      <td>#fame</td>\n",
       "      <td>Media</td>\n",
       "      <td>IND</td>\n",
       "      <td>venture</td>\n",
       "      <td>10000000.0</td>\n",
       "    </tr>\n",
       "    <tr>\n",
       "      <th>2</th>\n",
       "      <td>/organization/-qounter</td>\n",
       "      <td>:Qounter</td>\n",
       "      <td>Application Platforms|Real Time|Social Network...</td>\n",
       "      <td>USA</td>\n",
       "      <td>seed</td>\n",
       "      <td>700000.0</td>\n",
       "    </tr>\n",
       "    <tr>\n",
       "      <th>4</th>\n",
       "      <td>/organization/0-6-com</td>\n",
       "      <td>0-6.com</td>\n",
       "      <td>Curated Web</td>\n",
       "      <td>CHN</td>\n",
       "      <td>venture</td>\n",
       "      <td>2000000.0</td>\n",
       "    </tr>\n",
       "    <tr>\n",
       "      <th>6</th>\n",
       "      <td>/organization/01games-technology</td>\n",
       "      <td>01Games Technology</td>\n",
       "      <td>Games</td>\n",
       "      <td>HKG</td>\n",
       "      <td>undisclosed</td>\n",
       "      <td>41250.0</td>\n",
       "    </tr>\n",
       "    <tr>\n",
       "      <th>7</th>\n",
       "      <td>/organization/0ndine-biomedical-inc</td>\n",
       "      <td>Ondine Biomedical Inc.</td>\n",
       "      <td>Biotechnology</td>\n",
       "      <td>CAN</td>\n",
       "      <td>seed</td>\n",
       "      <td>43360.0</td>\n",
       "    </tr>\n",
       "  </tbody>\n",
       "</table>\n",
       "</div>"
      ],
      "text/plain": [
       "                             permalink                    name  \\\n",
       "0                  /organization/-fame                   #fame   \n",
       "2               /organization/-qounter                :Qounter   \n",
       "4                /organization/0-6-com                 0-6.com   \n",
       "6     /organization/01games-technology      01Games Technology   \n",
       "7  /organization/0ndine-biomedical-inc  Ondine Biomedical Inc.   \n",
       "\n",
       "                                       category_list country_code  \\\n",
       "0                                              Media          IND   \n",
       "2  Application Platforms|Real Time|Social Network...          USA   \n",
       "4                                        Curated Web          CHN   \n",
       "6                                              Games          HKG   \n",
       "7                                      Biotechnology          CAN   \n",
       "\n",
       "  funding_round_type  raised_amount_usd  \n",
       "0            venture         10000000.0  \n",
       "2               seed           700000.0  \n",
       "4            venture          2000000.0  \n",
       "6        undisclosed            41250.0  \n",
       "7               seed            43360.0  "
      ]
     },
     "execution_count": 30,
     "metadata": {},
     "output_type": "execute_result"
    }
   ],
   "source": [
    "master_frame2.head()"
   ]
  },
  {
   "cell_type": "markdown",
   "id": "93fed04e",
   "metadata": {},
   "source": [
    "# Investment Type Analysis"
   ]
  },
  {
   "cell_type": "markdown",
   "id": "32e5fdad",
   "metadata": {},
   "source": [
    "Spark Funds wants to choose one of these four investment types(venture, angel, seed, and private equity) for each potential investment they will make.\n",
    "\n",
    "1. Calculate the most representative value of the investment amount for each of the four funding types (venture, angel, seed, and private equity)"
   ]
  },
  {
   "cell_type": "markdown",
   "id": "b379c070",
   "metadata": {},
   "source": [
    "As mentioned above we have to extract data where funding_round_type is venture, angel, seed, and private equity"
   ]
  },
  {
   "cell_type": "code",
   "execution_count": 31,
   "id": "15f69f08",
   "metadata": {},
   "outputs": [
    {
     "data": {
      "text/plain": [
       "array(['venture', 'seed', 'undisclosed', 'convertible_note',\n",
       "       'private_equity', 'debt_financing', 'angel', 'grant',\n",
       "       'equity_crowdfunding', 'post_ipo_equity', 'post_ipo_debt',\n",
       "       'product_crowdfunding', 'secondary_market',\n",
       "       'non_equity_assistance'], dtype=object)"
      ]
     },
     "execution_count": 31,
     "metadata": {},
     "output_type": "execute_result"
    }
   ],
   "source": [
    "master_frame2['funding_round_type'].unique()"
   ]
  },
  {
   "cell_type": "code",
   "execution_count": 32,
   "id": "51417922",
   "metadata": {},
   "outputs": [],
   "source": [
    "funding_lst=['seed','angel','venture','private_equity']\n",
    "master_frame2=master_frame2[master_frame2['funding_round_type'].isin(funding_lst)]"
   ]
  },
  {
   "cell_type": "code",
   "execution_count": 33,
   "id": "06321b84",
   "metadata": {},
   "outputs": [
    {
     "data": {
      "text/plain": [
       "array(['venture', 'seed', 'private_equity', 'angel'], dtype=object)"
      ]
     },
     "execution_count": 33,
     "metadata": {},
     "output_type": "execute_result"
    }
   ],
   "source": [
    "master_frame2['funding_round_type'].unique()"
   ]
  },
  {
   "cell_type": "code",
   "execution_count": 34,
   "id": "54bf30f0",
   "metadata": {},
   "outputs": [
    {
     "data": {
      "text/html": [
       "<div>\n",
       "<style scoped>\n",
       "    .dataframe tbody tr th:only-of-type {\n",
       "        vertical-align: middle;\n",
       "    }\n",
       "\n",
       "    .dataframe tbody tr th {\n",
       "        vertical-align: top;\n",
       "    }\n",
       "\n",
       "    .dataframe thead th {\n",
       "        text-align: right;\n",
       "    }\n",
       "</style>\n",
       "<table border=\"1\" class=\"dataframe\">\n",
       "  <thead>\n",
       "    <tr style=\"text-align: right;\">\n",
       "      <th></th>\n",
       "      <th>permalink</th>\n",
       "      <th>name</th>\n",
       "      <th>category_list</th>\n",
       "      <th>country_code</th>\n",
       "      <th>funding_round_type</th>\n",
       "      <th>raised_amount_usd</th>\n",
       "    </tr>\n",
       "  </thead>\n",
       "  <tbody>\n",
       "    <tr>\n",
       "      <th>0</th>\n",
       "      <td>/organization/-fame</td>\n",
       "      <td>#fame</td>\n",
       "      <td>Media</td>\n",
       "      <td>IND</td>\n",
       "      <td>venture</td>\n",
       "      <td>10000000.0</td>\n",
       "    </tr>\n",
       "    <tr>\n",
       "      <th>2</th>\n",
       "      <td>/organization/-qounter</td>\n",
       "      <td>:Qounter</td>\n",
       "      <td>Application Platforms|Real Time|Social Network...</td>\n",
       "      <td>USA</td>\n",
       "      <td>seed</td>\n",
       "      <td>700000.0</td>\n",
       "    </tr>\n",
       "    <tr>\n",
       "      <th>4</th>\n",
       "      <td>/organization/0-6-com</td>\n",
       "      <td>0-6.com</td>\n",
       "      <td>Curated Web</td>\n",
       "      <td>CHN</td>\n",
       "      <td>venture</td>\n",
       "      <td>2000000.0</td>\n",
       "    </tr>\n",
       "    <tr>\n",
       "      <th>7</th>\n",
       "      <td>/organization/0ndine-biomedical-inc</td>\n",
       "      <td>Ondine Biomedical Inc.</td>\n",
       "      <td>Biotechnology</td>\n",
       "      <td>CAN</td>\n",
       "      <td>seed</td>\n",
       "      <td>43360.0</td>\n",
       "    </tr>\n",
       "    <tr>\n",
       "      <th>8</th>\n",
       "      <td>/organization/0ndine-biomedical-inc</td>\n",
       "      <td>Ondine Biomedical Inc.</td>\n",
       "      <td>Biotechnology</td>\n",
       "      <td>CAN</td>\n",
       "      <td>venture</td>\n",
       "      <td>719491.0</td>\n",
       "    </tr>\n",
       "  </tbody>\n",
       "</table>\n",
       "</div>"
      ],
      "text/plain": [
       "                             permalink                    name  \\\n",
       "0                  /organization/-fame                   #fame   \n",
       "2               /organization/-qounter                :Qounter   \n",
       "4                /organization/0-6-com                 0-6.com   \n",
       "7  /organization/0ndine-biomedical-inc  Ondine Biomedical Inc.   \n",
       "8  /organization/0ndine-biomedical-inc  Ondine Biomedical Inc.   \n",
       "\n",
       "                                       category_list country_code  \\\n",
       "0                                              Media          IND   \n",
       "2  Application Platforms|Real Time|Social Network...          USA   \n",
       "4                                        Curated Web          CHN   \n",
       "7                                      Biotechnology          CAN   \n",
       "8                                      Biotechnology          CAN   \n",
       "\n",
       "  funding_round_type  raised_amount_usd  \n",
       "0            venture         10000000.0  \n",
       "2               seed           700000.0  \n",
       "4            venture          2000000.0  \n",
       "7               seed            43360.0  \n",
       "8            venture           719491.0  "
      ]
     },
     "execution_count": 34,
     "metadata": {},
     "output_type": "execute_result"
    }
   ],
   "source": [
    "master_frame2.head()"
   ]
  },
  {
   "cell_type": "code",
   "execution_count": 35,
   "id": "30dbd855",
   "metadata": {},
   "outputs": [],
   "source": [
    "master_frame2.reset_index(drop=True,inplace=True)"
   ]
  },
  {
   "cell_type": "code",
   "execution_count": 36,
   "id": "7c7839bc",
   "metadata": {},
   "outputs": [
    {
     "data": {
      "text/html": [
       "<div>\n",
       "<style scoped>\n",
       "    .dataframe tbody tr th:only-of-type {\n",
       "        vertical-align: middle;\n",
       "    }\n",
       "\n",
       "    .dataframe tbody tr th {\n",
       "        vertical-align: top;\n",
       "    }\n",
       "\n",
       "    .dataframe thead th {\n",
       "        text-align: right;\n",
       "    }\n",
       "</style>\n",
       "<table border=\"1\" class=\"dataframe\">\n",
       "  <thead>\n",
       "    <tr style=\"text-align: right;\">\n",
       "      <th></th>\n",
       "      <th>permalink</th>\n",
       "      <th>name</th>\n",
       "      <th>category_list</th>\n",
       "      <th>country_code</th>\n",
       "      <th>funding_round_type</th>\n",
       "      <th>raised_amount_usd</th>\n",
       "    </tr>\n",
       "  </thead>\n",
       "  <tbody>\n",
       "    <tr>\n",
       "      <th>0</th>\n",
       "      <td>/organization/-fame</td>\n",
       "      <td>#fame</td>\n",
       "      <td>Media</td>\n",
       "      <td>IND</td>\n",
       "      <td>venture</td>\n",
       "      <td>10000000.0</td>\n",
       "    </tr>\n",
       "    <tr>\n",
       "      <th>1</th>\n",
       "      <td>/organization/-qounter</td>\n",
       "      <td>:Qounter</td>\n",
       "      <td>Application Platforms|Real Time|Social Network...</td>\n",
       "      <td>USA</td>\n",
       "      <td>seed</td>\n",
       "      <td>700000.0</td>\n",
       "    </tr>\n",
       "    <tr>\n",
       "      <th>2</th>\n",
       "      <td>/organization/0-6-com</td>\n",
       "      <td>0-6.com</td>\n",
       "      <td>Curated Web</td>\n",
       "      <td>CHN</td>\n",
       "      <td>venture</td>\n",
       "      <td>2000000.0</td>\n",
       "    </tr>\n",
       "    <tr>\n",
       "      <th>3</th>\n",
       "      <td>/organization/0ndine-biomedical-inc</td>\n",
       "      <td>Ondine Biomedical Inc.</td>\n",
       "      <td>Biotechnology</td>\n",
       "      <td>CAN</td>\n",
       "      <td>seed</td>\n",
       "      <td>43360.0</td>\n",
       "    </tr>\n",
       "    <tr>\n",
       "      <th>4</th>\n",
       "      <td>/organization/0ndine-biomedical-inc</td>\n",
       "      <td>Ondine Biomedical Inc.</td>\n",
       "      <td>Biotechnology</td>\n",
       "      <td>CAN</td>\n",
       "      <td>venture</td>\n",
       "      <td>719491.0</td>\n",
       "    </tr>\n",
       "  </tbody>\n",
       "</table>\n",
       "</div>"
      ],
      "text/plain": [
       "                             permalink                    name  \\\n",
       "0                  /organization/-fame                   #fame   \n",
       "1               /organization/-qounter                :Qounter   \n",
       "2                /organization/0-6-com                 0-6.com   \n",
       "3  /organization/0ndine-biomedical-inc  Ondine Biomedical Inc.   \n",
       "4  /organization/0ndine-biomedical-inc  Ondine Biomedical Inc.   \n",
       "\n",
       "                                       category_list country_code  \\\n",
       "0                                              Media          IND   \n",
       "1  Application Platforms|Real Time|Social Network...          USA   \n",
       "2                                        Curated Web          CHN   \n",
       "3                                      Biotechnology          CAN   \n",
       "4                                      Biotechnology          CAN   \n",
       "\n",
       "  funding_round_type  raised_amount_usd  \n",
       "0            venture         10000000.0  \n",
       "1               seed           700000.0  \n",
       "2            venture          2000000.0  \n",
       "3               seed            43360.0  \n",
       "4            venture           719491.0  "
      ]
     },
     "execution_count": 36,
     "metadata": {},
     "output_type": "execute_result"
    }
   ],
   "source": [
    "master_frame2.head()"
   ]
  },
  {
   "cell_type": "code",
   "execution_count": 37,
   "id": "a82d8026",
   "metadata": {},
   "outputs": [],
   "source": [
    "#grouping of master_frame "
   ]
  },
  {
   "cell_type": "code",
   "execution_count": 38,
   "id": "cbf5effd",
   "metadata": {},
   "outputs": [],
   "source": [
    "a=master_frame2.groupby(\"funding_round_type\")[\"raised_amount_usd\"].mean().sort_values(ascending=False).apply(lambda x:'{:.1f}'.format(x))"
   ]
  },
  {
   "cell_type": "code",
   "execution_count": 39,
   "id": "dfee6858",
   "metadata": {},
   "outputs": [
    {
     "data": {
      "text/plain": [
       "funding_round_type\n",
       "private_equity    73938486.3\n",
       "venture           11724222.7\n",
       "angel               971573.9\n",
       "seed                747827.9\n",
       "Name: raised_amount_usd, dtype: object"
      ]
     },
     "execution_count": 39,
     "metadata": {},
     "output_type": "execute_result"
    }
   ],
   "source": [
    "a"
   ]
  },
  {
   "cell_type": "markdown",
   "id": "151932c3",
   "metadata": {},
   "source": [
    "#### Considering that Spark Funds wants to invest between 5 to 15 million USD per  investment round, which investment type is the most suitable for them?"
   ]
  },
  {
   "cell_type": "code",
   "execution_count": 40,
   "id": "514e7724",
   "metadata": {},
   "outputs": [],
   "source": [
    "# venture is the most funding amount b/w 5m to 15 million"
   ]
  },
  {
   "cell_type": "markdown",
   "id": "bb380336",
   "metadata": {},
   "source": [
    "# filtering the rows which contains venture investment type"
   ]
  },
  {
   "cell_type": "code",
   "execution_count": 41,
   "id": "e6f730cd",
   "metadata": {},
   "outputs": [],
   "source": [
    "master_frame3=master_frame2[master_frame2['funding_round_type']=='venture']"
   ]
  },
  {
   "cell_type": "code",
   "execution_count": 42,
   "id": "f0a9444c",
   "metadata": {},
   "outputs": [],
   "source": [
    "master_frame3.reset_index(drop=True,inplace=True)"
   ]
  },
  {
   "cell_type": "code",
   "execution_count": 43,
   "id": "f1ae1059",
   "metadata": {},
   "outputs": [
    {
     "data": {
      "text/html": [
       "<div>\n",
       "<style scoped>\n",
       "    .dataframe tbody tr th:only-of-type {\n",
       "        vertical-align: middle;\n",
       "    }\n",
       "\n",
       "    .dataframe tbody tr th {\n",
       "        vertical-align: top;\n",
       "    }\n",
       "\n",
       "    .dataframe thead th {\n",
       "        text-align: right;\n",
       "    }\n",
       "</style>\n",
       "<table border=\"1\" class=\"dataframe\">\n",
       "  <thead>\n",
       "    <tr style=\"text-align: right;\">\n",
       "      <th></th>\n",
       "      <th>permalink</th>\n",
       "      <th>name</th>\n",
       "      <th>category_list</th>\n",
       "      <th>country_code</th>\n",
       "      <th>funding_round_type</th>\n",
       "      <th>raised_amount_usd</th>\n",
       "    </tr>\n",
       "  </thead>\n",
       "  <tbody>\n",
       "    <tr>\n",
       "      <th>0</th>\n",
       "      <td>/organization/-fame</td>\n",
       "      <td>#fame</td>\n",
       "      <td>Media</td>\n",
       "      <td>IND</td>\n",
       "      <td>venture</td>\n",
       "      <td>10000000.0</td>\n",
       "    </tr>\n",
       "    <tr>\n",
       "      <th>1</th>\n",
       "      <td>/organization/0-6-com</td>\n",
       "      <td>0-6.com</td>\n",
       "      <td>Curated Web</td>\n",
       "      <td>CHN</td>\n",
       "      <td>venture</td>\n",
       "      <td>2000000.0</td>\n",
       "    </tr>\n",
       "    <tr>\n",
       "      <th>2</th>\n",
       "      <td>/organization/0ndine-biomedical-inc</td>\n",
       "      <td>Ondine Biomedical Inc.</td>\n",
       "      <td>Biotechnology</td>\n",
       "      <td>CAN</td>\n",
       "      <td>venture</td>\n",
       "      <td>719491.0</td>\n",
       "    </tr>\n",
       "    <tr>\n",
       "      <th>3</th>\n",
       "      <td>/organization/0xdata</td>\n",
       "      <td>H2O.ai</td>\n",
       "      <td>Analytics</td>\n",
       "      <td>USA</td>\n",
       "      <td>venture</td>\n",
       "      <td>20000000.0</td>\n",
       "    </tr>\n",
       "    <tr>\n",
       "      <th>4</th>\n",
       "      <td>/organization/0xdata</td>\n",
       "      <td>H2O.ai</td>\n",
       "      <td>Analytics</td>\n",
       "      <td>USA</td>\n",
       "      <td>venture</td>\n",
       "      <td>1700000.0</td>\n",
       "    </tr>\n",
       "  </tbody>\n",
       "</table>\n",
       "</div>"
      ],
      "text/plain": [
       "                             permalink                    name  category_list  \\\n",
       "0                  /organization/-fame                   #fame          Media   \n",
       "1                /organization/0-6-com                 0-6.com    Curated Web   \n",
       "2  /organization/0ndine-biomedical-inc  Ondine Biomedical Inc.  Biotechnology   \n",
       "3                 /organization/0xdata                  H2O.ai      Analytics   \n",
       "4                 /organization/0xdata                  H2O.ai      Analytics   \n",
       "\n",
       "  country_code funding_round_type  raised_amount_usd  \n",
       "0          IND            venture         10000000.0  \n",
       "1          CHN            venture          2000000.0  \n",
       "2          CAN            venture           719491.0  \n",
       "3          USA            venture         20000000.0  \n",
       "4          USA            venture          1700000.0  "
      ]
     },
     "execution_count": 43,
     "metadata": {},
     "output_type": "execute_result"
    }
   ],
   "source": [
    "master_frame3.head()"
   ]
  },
  {
   "cell_type": "markdown",
   "id": "a30f900f",
   "metadata": {},
   "source": [
    "# Country analysis"
   ]
  },
  {
   "cell_type": "markdown",
   "id": "f1408f1e",
   "metadata": {},
   "source": [
    "#### Spark Funds wants to invest in countries with the highest amount of funding for the chosen investment type"
   ]
  },
  {
   "cell_type": "markdown",
   "id": "dd5ab770",
   "metadata": {},
   "source": [
    "1. It wants to invest only in English-speaking countries because of the ease of communication with the companies it would invest in.\n",
    "2. Consider a country to be English speaking only if English is one of the official languages in that country\n",
    "\n",
    "So First i am going to extract only those countries where official languages is english"
   ]
  },
  {
   "cell_type": "markdown",
   "id": "f76cf4bb",
   "metadata": {},
   "source": [
    "fetch the list of english- speaking countries from the given link i.e.\n",
    "https://en.wikipedia.org/wiki/List_of_territorial_entities_where_English_is_an_official_language"
   ]
  },
  {
   "cell_type": "code",
   "execution_count": 44,
   "id": "ea7e0e30",
   "metadata": {},
   "outputs": [],
   "source": [
    "#fetching data from the \n",
    "country_lst=pd.read_html('https://en.wikipedia.org/wiki/List_of_countries_and_territories_where_English_is_an_official_language')"
   ]
  },
  {
   "cell_type": "code",
   "execution_count": 45,
   "id": "c8f3e339",
   "metadata": {},
   "outputs": [
    {
     "data": {
      "text/plain": [
       "list"
      ]
     },
     "execution_count": 45,
     "metadata": {},
     "output_type": "execute_result"
    }
   ],
   "source": [
    "type(country_lst)"
   ]
  },
  {
   "cell_type": "code",
   "execution_count": 46,
   "id": "62494079",
   "metadata": {},
   "outputs": [
    {
     "data": {
      "text/plain": [
       "20"
      ]
     },
     "execution_count": 46,
     "metadata": {},
     "output_type": "execute_result"
    }
   ],
   "source": [
    "len(country_lst)"
   ]
  },
  {
   "cell_type": "code",
   "execution_count": 47,
   "id": "e3315733",
   "metadata": {},
   "outputs": [
    {
     "data": {
      "text/plain": [
       "0    ATG\n",
       "1    BHS\n",
       "2    BRB\n",
       "3    BLZ\n",
       "4    BWA\n",
       "Name: ISO code, dtype: object"
      ]
     },
     "execution_count": 47,
     "metadata": {},
     "output_type": "execute_result"
    }
   ],
   "source": [
    "#fetch 1st two data frames to get the official language of countries\n",
    "s1=country_lst[0]['ISO code']\n",
    "s1.head()"
   ]
  },
  {
   "cell_type": "code",
   "execution_count": 48,
   "id": "2239e402",
   "metadata": {},
   "outputs": [
    {
     "data": {
      "text/plain": [
       "0    AUS\n",
       "1    NZL\n",
       "2    GBR\n",
       "3    USA\n",
       "Name: ISO code, dtype: object"
      ]
     },
     "execution_count": 48,
     "metadata": {},
     "output_type": "execute_result"
    }
   ],
   "source": [
    "s2=country_lst[1]['ISO code']\n",
    "s2.head()"
   ]
  },
  {
   "cell_type": "code",
   "execution_count": 49,
   "id": "23698cad",
   "metadata": {},
   "outputs": [
    {
     "data": {
      "text/plain": [
       "0    AUS\n",
       "1    NZL\n",
       "2    GBR\n",
       "3    USA\n",
       "4    ATG\n",
       "Name: ISO code, dtype: object"
      ]
     },
     "execution_count": 49,
     "metadata": {},
     "output_type": "execute_result"
    }
   ],
   "source": [
    "s3=pd.concat([s2,s1],axis=0,ignore_index=True)\n",
    "s3.head()"
   ]
  },
  {
   "cell_type": "code",
   "execution_count": 50,
   "id": "4a150c3a",
   "metadata": {},
   "outputs": [],
   "source": [
    "country_df=pd.DataFrame()\n",
    "country_df['country_code']=s3"
   ]
  },
  {
   "cell_type": "code",
   "execution_count": 51,
   "id": "3deadc14",
   "metadata": {},
   "outputs": [
    {
     "data": {
      "text/html": [
       "<div>\n",
       "<style scoped>\n",
       "    .dataframe tbody tr th:only-of-type {\n",
       "        vertical-align: middle;\n",
       "    }\n",
       "\n",
       "    .dataframe tbody tr th {\n",
       "        vertical-align: top;\n",
       "    }\n",
       "\n",
       "    .dataframe thead th {\n",
       "        text-align: right;\n",
       "    }\n",
       "</style>\n",
       "<table border=\"1\" class=\"dataframe\">\n",
       "  <thead>\n",
       "    <tr style=\"text-align: right;\">\n",
       "      <th></th>\n",
       "      <th>country_code</th>\n",
       "    </tr>\n",
       "  </thead>\n",
       "  <tbody>\n",
       "    <tr>\n",
       "      <th>0</th>\n",
       "      <td>AUS</td>\n",
       "    </tr>\n",
       "    <tr>\n",
       "      <th>1</th>\n",
       "      <td>NZL</td>\n",
       "    </tr>\n",
       "    <tr>\n",
       "      <th>2</th>\n",
       "      <td>GBR</td>\n",
       "    </tr>\n",
       "    <tr>\n",
       "      <th>3</th>\n",
       "      <td>USA</td>\n",
       "    </tr>\n",
       "    <tr>\n",
       "      <th>4</th>\n",
       "      <td>ATG</td>\n",
       "    </tr>\n",
       "  </tbody>\n",
       "</table>\n",
       "</div>"
      ],
      "text/plain": [
       "  country_code\n",
       "0          AUS\n",
       "1          NZL\n",
       "2          GBR\n",
       "3          USA\n",
       "4          ATG"
      ]
     },
     "execution_count": 51,
     "metadata": {},
     "output_type": "execute_result"
    }
   ],
   "source": [
    "country_df.head()"
   ]
  },
  {
   "cell_type": "code",
   "execution_count": 52,
   "id": "7aa7b36d",
   "metadata": {},
   "outputs": [],
   "source": [
    "#merge both datasets i.e. master_frame3 and country_df to get countries whose official language is ENGLISH\n",
    "master_frame4=pd.merge(master_frame3,country_df,on=\"country_code\",how='inner')"
   ]
  },
  {
   "cell_type": "code",
   "execution_count": 53,
   "id": "577fe595",
   "metadata": {},
   "outputs": [
    {
     "data": {
      "text/plain": [
       "array(['IND', 'CAN', 'USA', 'GBR', 'IRL', 'SGP', 'AUS', 'NZL', 'PHL',\n",
       "       'ZAF', 'KEN', 'CMR', 'NGA', 'PAK', 'MUS', 'TTO', 'KNA', 'MLT',\n",
       "       'GHA', 'UGA', 'BWA'], dtype=object)"
      ]
     },
     "execution_count": 53,
     "metadata": {},
     "output_type": "execute_result"
    }
   ],
   "source": [
    "master_frame4['country_code'].unique()"
   ]
  },
  {
   "cell_type": "markdown",
   "id": "ea093051",
   "metadata": {},
   "source": [
    "#### Spark Funds wants to see the top nine countries which have received the highest total funding (across ALL sectors for the chosen investment type)"
   ]
  },
  {
   "cell_type": "code",
   "execution_count": 54,
   "id": "24f79e9e",
   "metadata": {},
   "outputs": [],
   "source": [
    "english_df=master_frame4.groupby('country_code')['raised_amount_usd'].sum().sort_values(ascending=False).apply(lambda x:'{:.1f}'.format(x)).to_frame().reset_index()"
   ]
  },
  {
   "cell_type": "code",
   "execution_count": 55,
   "id": "c5023267",
   "metadata": {},
   "outputs": [
    {
     "data": {
      "text/html": [
       "<div>\n",
       "<style scoped>\n",
       "    .dataframe tbody tr th:only-of-type {\n",
       "        vertical-align: middle;\n",
       "    }\n",
       "\n",
       "    .dataframe tbody tr th {\n",
       "        vertical-align: top;\n",
       "    }\n",
       "\n",
       "    .dataframe thead th {\n",
       "        text-align: right;\n",
       "    }\n",
       "</style>\n",
       "<table border=\"1\" class=\"dataframe\">\n",
       "  <thead>\n",
       "    <tr style=\"text-align: right;\">\n",
       "      <th></th>\n",
       "      <th>country_code</th>\n",
       "      <th>raised_amount_usd</th>\n",
       "    </tr>\n",
       "  </thead>\n",
       "  <tbody>\n",
       "    <tr>\n",
       "      <th>0</th>\n",
       "      <td>USA</td>\n",
       "      <td>420068029342.0</td>\n",
       "    </tr>\n",
       "    <tr>\n",
       "      <th>1</th>\n",
       "      <td>GBR</td>\n",
       "      <td>20072813004.0</td>\n",
       "    </tr>\n",
       "    <tr>\n",
       "      <th>2</th>\n",
       "      <td>IND</td>\n",
       "      <td>14261508718.0</td>\n",
       "    </tr>\n",
       "    <tr>\n",
       "      <th>3</th>\n",
       "      <td>CAN</td>\n",
       "      <td>9482217668.0</td>\n",
       "    </tr>\n",
       "    <tr>\n",
       "      <th>4</th>\n",
       "      <td>SGP</td>\n",
       "      <td>2793917856.0</td>\n",
       "    </tr>\n",
       "    <tr>\n",
       "      <th>5</th>\n",
       "      <td>IRL</td>\n",
       "      <td>1669285543.0</td>\n",
       "    </tr>\n",
       "    <tr>\n",
       "      <th>6</th>\n",
       "      <td>AUS</td>\n",
       "      <td>1319028698.0</td>\n",
       "    </tr>\n",
       "    <tr>\n",
       "      <th>7</th>\n",
       "      <td>NZL</td>\n",
       "      <td>448316383.0</td>\n",
       "    </tr>\n",
       "    <tr>\n",
       "      <th>8</th>\n",
       "      <td>ZAF</td>\n",
       "      <td>233713106.0</td>\n",
       "    </tr>\n",
       "    <tr>\n",
       "      <th>9</th>\n",
       "      <td>NGA</td>\n",
       "      <td>183440000.0</td>\n",
       "    </tr>\n",
       "    <tr>\n",
       "      <th>10</th>\n",
       "      <td>PHL</td>\n",
       "      <td>114499742.0</td>\n",
       "    </tr>\n",
       "    <tr>\n",
       "      <th>11</th>\n",
       "      <td>PAK</td>\n",
       "      <td>83125000.0</td>\n",
       "    </tr>\n",
       "    <tr>\n",
       "      <th>12</th>\n",
       "      <td>KEN</td>\n",
       "      <td>53940000.0</td>\n",
       "    </tr>\n",
       "    <tr>\n",
       "      <th>13</th>\n",
       "      <td>GHA</td>\n",
       "      <td>31200000.0</td>\n",
       "    </tr>\n",
       "    <tr>\n",
       "      <th>14</th>\n",
       "      <td>MLT</td>\n",
       "      <td>17728300.0</td>\n",
       "    </tr>\n",
       "    <tr>\n",
       "      <th>15</th>\n",
       "      <td>KNA</td>\n",
       "      <td>15000000.0</td>\n",
       "    </tr>\n",
       "    <tr>\n",
       "      <th>16</th>\n",
       "      <td>TTO</td>\n",
       "      <td>8500000.0</td>\n",
       "    </tr>\n",
       "    <tr>\n",
       "      <th>17</th>\n",
       "      <td>UGA</td>\n",
       "      <td>2500000.0</td>\n",
       "    </tr>\n",
       "    <tr>\n",
       "      <th>18</th>\n",
       "      <td>BWA</td>\n",
       "      <td>2250000.0</td>\n",
       "    </tr>\n",
       "    <tr>\n",
       "      <th>19</th>\n",
       "      <td>MUS</td>\n",
       "      <td>1500000.0</td>\n",
       "    </tr>\n",
       "    <tr>\n",
       "      <th>20</th>\n",
       "      <td>CMR</td>\n",
       "      <td>359561.0</td>\n",
       "    </tr>\n",
       "  </tbody>\n",
       "</table>\n",
       "</div>"
      ],
      "text/plain": [
       "   country_code raised_amount_usd\n",
       "0           USA    420068029342.0\n",
       "1           GBR     20072813004.0\n",
       "2           IND     14261508718.0\n",
       "3           CAN      9482217668.0\n",
       "4           SGP      2793917856.0\n",
       "5           IRL      1669285543.0\n",
       "6           AUS      1319028698.0\n",
       "7           NZL       448316383.0\n",
       "8           ZAF       233713106.0\n",
       "9           NGA       183440000.0\n",
       "10          PHL       114499742.0\n",
       "11          PAK        83125000.0\n",
       "12          KEN        53940000.0\n",
       "13          GHA        31200000.0\n",
       "14          MLT        17728300.0\n",
       "15          KNA        15000000.0\n",
       "16          TTO         8500000.0\n",
       "17          UGA         2500000.0\n",
       "18          BWA         2250000.0\n",
       "19          MUS         1500000.0\n",
       "20          CMR          359561.0"
      ]
     },
     "execution_count": 55,
     "metadata": {},
     "output_type": "execute_result"
    }
   ],
   "source": [
    "english_df"
   ]
  },
  {
   "cell_type": "markdown",
   "id": "40cfdafa",
   "metadata": {},
   "source": [
    "#### For the chosen investment type, make a data frame named top_9 with the top nine countries (based on the total investment amount each country has received)"
   ]
  },
  {
   "cell_type": "code",
   "execution_count": 56,
   "id": "3c8ba6af",
   "metadata": {},
   "outputs": [],
   "source": [
    "top_9=english_df.head(9)"
   ]
  },
  {
   "cell_type": "code",
   "execution_count": 57,
   "id": "d03cc630",
   "metadata": {},
   "outputs": [
    {
     "data": {
      "text/html": [
       "<div>\n",
       "<style scoped>\n",
       "    .dataframe tbody tr th:only-of-type {\n",
       "        vertical-align: middle;\n",
       "    }\n",
       "\n",
       "    .dataframe tbody tr th {\n",
       "        vertical-align: top;\n",
       "    }\n",
       "\n",
       "    .dataframe thead th {\n",
       "        text-align: right;\n",
       "    }\n",
       "</style>\n",
       "<table border=\"1\" class=\"dataframe\">\n",
       "  <thead>\n",
       "    <tr style=\"text-align: right;\">\n",
       "      <th></th>\n",
       "      <th>country_code</th>\n",
       "      <th>raised_amount_usd</th>\n",
       "    </tr>\n",
       "  </thead>\n",
       "  <tbody>\n",
       "    <tr>\n",
       "      <th>0</th>\n",
       "      <td>USA</td>\n",
       "      <td>420068029342.0</td>\n",
       "    </tr>\n",
       "    <tr>\n",
       "      <th>1</th>\n",
       "      <td>GBR</td>\n",
       "      <td>20072813004.0</td>\n",
       "    </tr>\n",
       "    <tr>\n",
       "      <th>2</th>\n",
       "      <td>IND</td>\n",
       "      <td>14261508718.0</td>\n",
       "    </tr>\n",
       "    <tr>\n",
       "      <th>3</th>\n",
       "      <td>CAN</td>\n",
       "      <td>9482217668.0</td>\n",
       "    </tr>\n",
       "    <tr>\n",
       "      <th>4</th>\n",
       "      <td>SGP</td>\n",
       "      <td>2793917856.0</td>\n",
       "    </tr>\n",
       "    <tr>\n",
       "      <th>5</th>\n",
       "      <td>IRL</td>\n",
       "      <td>1669285543.0</td>\n",
       "    </tr>\n",
       "    <tr>\n",
       "      <th>6</th>\n",
       "      <td>AUS</td>\n",
       "      <td>1319028698.0</td>\n",
       "    </tr>\n",
       "    <tr>\n",
       "      <th>7</th>\n",
       "      <td>NZL</td>\n",
       "      <td>448316383.0</td>\n",
       "    </tr>\n",
       "    <tr>\n",
       "      <th>8</th>\n",
       "      <td>ZAF</td>\n",
       "      <td>233713106.0</td>\n",
       "    </tr>\n",
       "  </tbody>\n",
       "</table>\n",
       "</div>"
      ],
      "text/plain": [
       "  country_code raised_amount_usd\n",
       "0          USA    420068029342.0\n",
       "1          GBR     20072813004.0\n",
       "2          IND     14261508718.0\n",
       "3          CAN      9482217668.0\n",
       "4          SGP      2793917856.0\n",
       "5          IRL      1669285543.0\n",
       "6          AUS      1319028698.0\n",
       "7          NZL       448316383.0\n",
       "8          ZAF       233713106.0"
      ]
     },
     "execution_count": 57,
     "metadata": {},
     "output_type": "execute_result"
    }
   ],
   "source": [
    "top_9"
   ]
  },
  {
   "cell_type": "markdown",
   "id": "b7b210bc",
   "metadata": {},
   "source": [
    "#### top three English-speaking countries in the data frame top_9."
   ]
  },
  {
   "cell_type": "code",
   "execution_count": 58,
   "id": "76629c67",
   "metadata": {},
   "outputs": [
    {
     "data": {
      "text/html": [
       "<div>\n",
       "<style scoped>\n",
       "    .dataframe tbody tr th:only-of-type {\n",
       "        vertical-align: middle;\n",
       "    }\n",
       "\n",
       "    .dataframe tbody tr th {\n",
       "        vertical-align: top;\n",
       "    }\n",
       "\n",
       "    .dataframe thead th {\n",
       "        text-align: right;\n",
       "    }\n",
       "</style>\n",
       "<table border=\"1\" class=\"dataframe\">\n",
       "  <thead>\n",
       "    <tr style=\"text-align: right;\">\n",
       "      <th></th>\n",
       "      <th>country_code</th>\n",
       "      <th>raised_amount_usd</th>\n",
       "    </tr>\n",
       "  </thead>\n",
       "  <tbody>\n",
       "    <tr>\n",
       "      <th>0</th>\n",
       "      <td>USA</td>\n",
       "      <td>420068029342.0</td>\n",
       "    </tr>\n",
       "    <tr>\n",
       "      <th>1</th>\n",
       "      <td>GBR</td>\n",
       "      <td>20072813004.0</td>\n",
       "    </tr>\n",
       "    <tr>\n",
       "      <th>2</th>\n",
       "      <td>IND</td>\n",
       "      <td>14261508718.0</td>\n",
       "    </tr>\n",
       "  </tbody>\n",
       "</table>\n",
       "</div>"
      ],
      "text/plain": [
       "  country_code raised_amount_usd\n",
       "0          USA    420068029342.0\n",
       "1          GBR     20072813004.0\n",
       "2          IND     14261508718.0"
      ]
     },
     "execution_count": 58,
     "metadata": {},
     "output_type": "execute_result"
    }
   ],
   "source": [
    "top_9.head(3)"
   ]
  },
  {
   "cell_type": "markdown",
   "id": "e1f5f4c7",
   "metadata": {},
   "source": [
    "# Sector Analysis1"
   ]
  },
  {
   "cell_type": "markdown",
   "id": "5e9dcb36",
   "metadata": {},
   "source": [
    "Now we also know the three most investment-friendly countries and the most suited funding type for Spark Funds. Let us now focus on finding the best sectors in these countries."
   ]
  },
  {
   "cell_type": "code",
   "execution_count": 59,
   "id": "44b82a23",
   "metadata": {},
   "outputs": [
    {
     "data": {
      "text/plain": [
       "['USA', 'GBR', 'IND']"
      ]
     },
     "execution_count": 59,
     "metadata": {},
     "output_type": "execute_result"
    }
   ],
   "source": [
    "#Extract top 3 countries from the master frame to find the best sectors in these countries\n",
    "top_3_lst=list(top_9['country_code'][:3])\n",
    "top_3_lst"
   ]
  },
  {
   "cell_type": "code",
   "execution_count": 60,
   "id": "3a70b19c",
   "metadata": {},
   "outputs": [],
   "source": [
    "master_frame5=master_frame4[master_frame4['country_code'].isin(top_3_lst)]"
   ]
  },
  {
   "cell_type": "code",
   "execution_count": 61,
   "id": "5788c5bf",
   "metadata": {},
   "outputs": [
    {
     "data": {
      "text/plain": [
       "array(['IND', 'USA', 'GBR'], dtype=object)"
      ]
     },
     "execution_count": 61,
     "metadata": {},
     "output_type": "execute_result"
    }
   ],
   "source": [
    "master_frame5['country_code'].unique()"
   ]
  },
  {
   "cell_type": "code",
   "execution_count": 62,
   "id": "0217c593",
   "metadata": {},
   "outputs": [
    {
     "data": {
      "text/html": [
       "<div>\n",
       "<style scoped>\n",
       "    .dataframe tbody tr th:only-of-type {\n",
       "        vertical-align: middle;\n",
       "    }\n",
       "\n",
       "    .dataframe tbody tr th {\n",
       "        vertical-align: top;\n",
       "    }\n",
       "\n",
       "    .dataframe thead th {\n",
       "        text-align: right;\n",
       "    }\n",
       "</style>\n",
       "<table border=\"1\" class=\"dataframe\">\n",
       "  <thead>\n",
       "    <tr style=\"text-align: right;\">\n",
       "      <th></th>\n",
       "      <th>permalink</th>\n",
       "      <th>name</th>\n",
       "      <th>category_list</th>\n",
       "      <th>country_code</th>\n",
       "      <th>funding_round_type</th>\n",
       "      <th>raised_amount_usd</th>\n",
       "    </tr>\n",
       "  </thead>\n",
       "  <tbody>\n",
       "    <tr>\n",
       "      <th>0</th>\n",
       "      <td>/organization/-fame</td>\n",
       "      <td>#fame</td>\n",
       "      <td>Media</td>\n",
       "      <td>IND</td>\n",
       "      <td>venture</td>\n",
       "      <td>10000000.0</td>\n",
       "    </tr>\n",
       "    <tr>\n",
       "      <th>1</th>\n",
       "      <td>/organization/21diamonds-india</td>\n",
       "      <td>21Diamonds</td>\n",
       "      <td>E-Commerce</td>\n",
       "      <td>IND</td>\n",
       "      <td>venture</td>\n",
       "      <td>6369507.0</td>\n",
       "    </tr>\n",
       "    <tr>\n",
       "      <th>2</th>\n",
       "      <td>/organization/247-learning-private</td>\n",
       "      <td>24x7 Learning</td>\n",
       "      <td>EdTech|Education|Systems</td>\n",
       "      <td>IND</td>\n",
       "      <td>venture</td>\n",
       "      <td>4000000.0</td>\n",
       "    </tr>\n",
       "    <tr>\n",
       "      <th>3</th>\n",
       "      <td>/organization/3dsoc</td>\n",
       "      <td>3DSoC</td>\n",
       "      <td>3D|Mobile</td>\n",
       "      <td>IND</td>\n",
       "      <td>venture</td>\n",
       "      <td>1240000.0</td>\n",
       "    </tr>\n",
       "    <tr>\n",
       "      <th>4</th>\n",
       "      <td>/organization/3dsoc</td>\n",
       "      <td>3DSoC</td>\n",
       "      <td>3D|Mobile</td>\n",
       "      <td>IND</td>\n",
       "      <td>venture</td>\n",
       "      <td>825000.0</td>\n",
       "    </tr>\n",
       "  </tbody>\n",
       "</table>\n",
       "</div>"
      ],
      "text/plain": [
       "                            permalink           name  \\\n",
       "0                 /organization/-fame          #fame   \n",
       "1      /organization/21diamonds-india     21Diamonds   \n",
       "2  /organization/247-learning-private  24x7 Learning   \n",
       "3                 /organization/3dsoc          3DSoC   \n",
       "4                 /organization/3dsoc          3DSoC   \n",
       "\n",
       "              category_list country_code funding_round_type  raised_amount_usd  \n",
       "0                     Media          IND            venture         10000000.0  \n",
       "1                E-Commerce          IND            venture          6369507.0  \n",
       "2  EdTech|Education|Systems          IND            venture          4000000.0  \n",
       "3                 3D|Mobile          IND            venture          1240000.0  \n",
       "4                 3D|Mobile          IND            venture           825000.0  "
      ]
     },
     "execution_count": 62,
     "metadata": {},
     "output_type": "execute_result"
    }
   ],
   "source": [
    "master_frame5.head()"
   ]
  },
  {
   "cell_type": "code",
   "execution_count": 63,
   "id": "a465e217",
   "metadata": {},
   "outputs": [
    {
     "data": {
      "text/plain": [
       "str"
      ]
     },
     "execution_count": 63,
     "metadata": {},
     "output_type": "execute_result"
    }
   ],
   "source": [
    "type(master_frame5['category_list'][0])"
   ]
  },
  {
   "cell_type": "markdown",
   "id": "6dbcda84",
   "metadata": {},
   "source": [
    "You discuss with the CEO and come up with the business rule that the first string before the vertical bar will be considered the primary sector. In the example above, ‘Application Platforms’ will be considered the primary sector."
   ]
  },
  {
   "cell_type": "code",
   "execution_count": 64,
   "id": "2c3120ae",
   "metadata": {},
   "outputs": [
    {
     "data": {
      "text/html": [
       "<div>\n",
       "<style scoped>\n",
       "    .dataframe tbody tr th:only-of-type {\n",
       "        vertical-align: middle;\n",
       "    }\n",
       "\n",
       "    .dataframe tbody tr th {\n",
       "        vertical-align: top;\n",
       "    }\n",
       "\n",
       "    .dataframe thead th {\n",
       "        text-align: right;\n",
       "    }\n",
       "</style>\n",
       "<table border=\"1\" class=\"dataframe\">\n",
       "  <thead>\n",
       "    <tr style=\"text-align: right;\">\n",
       "      <th></th>\n",
       "      <th>permalink</th>\n",
       "      <th>name</th>\n",
       "      <th>category_list</th>\n",
       "      <th>country_code</th>\n",
       "      <th>funding_round_type</th>\n",
       "      <th>raised_amount_usd</th>\n",
       "    </tr>\n",
       "  </thead>\n",
       "  <tbody>\n",
       "    <tr>\n",
       "      <th>0</th>\n",
       "      <td>/organization/-fame</td>\n",
       "      <td>#fame</td>\n",
       "      <td>Media</td>\n",
       "      <td>IND</td>\n",
       "      <td>venture</td>\n",
       "      <td>10000000.0</td>\n",
       "    </tr>\n",
       "    <tr>\n",
       "      <th>1</th>\n",
       "      <td>/organization/21diamonds-india</td>\n",
       "      <td>21Diamonds</td>\n",
       "      <td>E-Commerce</td>\n",
       "      <td>IND</td>\n",
       "      <td>venture</td>\n",
       "      <td>6369507.0</td>\n",
       "    </tr>\n",
       "    <tr>\n",
       "      <th>2</th>\n",
       "      <td>/organization/247-learning-private</td>\n",
       "      <td>24x7 Learning</td>\n",
       "      <td>EdTech</td>\n",
       "      <td>IND</td>\n",
       "      <td>venture</td>\n",
       "      <td>4000000.0</td>\n",
       "    </tr>\n",
       "    <tr>\n",
       "      <th>3</th>\n",
       "      <td>/organization/3dsoc</td>\n",
       "      <td>3DSoC</td>\n",
       "      <td>3D</td>\n",
       "      <td>IND</td>\n",
       "      <td>venture</td>\n",
       "      <td>1240000.0</td>\n",
       "    </tr>\n",
       "    <tr>\n",
       "      <th>4</th>\n",
       "      <td>/organization/3dsoc</td>\n",
       "      <td>3DSoC</td>\n",
       "      <td>3D</td>\n",
       "      <td>IND</td>\n",
       "      <td>venture</td>\n",
       "      <td>825000.0</td>\n",
       "    </tr>\n",
       "  </tbody>\n",
       "</table>\n",
       "</div>"
      ],
      "text/plain": [
       "                            permalink           name category_list  \\\n",
       "0                 /organization/-fame          #fame         Media   \n",
       "1      /organization/21diamonds-india     21Diamonds    E-Commerce   \n",
       "2  /organization/247-learning-private  24x7 Learning        EdTech   \n",
       "3                 /organization/3dsoc          3DSoC            3D   \n",
       "4                 /organization/3dsoc          3DSoC            3D   \n",
       "\n",
       "  country_code funding_round_type  raised_amount_usd  \n",
       "0          IND            venture         10000000.0  \n",
       "1          IND            venture          6369507.0  \n",
       "2          IND            venture          4000000.0  \n",
       "3          IND            venture          1240000.0  \n",
       "4          IND            venture           825000.0  "
      ]
     },
     "execution_count": 64,
     "metadata": {},
     "output_type": "execute_result"
    }
   ],
   "source": [
    "\n",
    "master_frame5['category_list']=master_frame5['category_list'].apply(lambda x:x.split('|')[0])\n",
    "master_frame5.head()"
   ]
  },
  {
   "cell_type": "markdown",
   "id": "930cbad6",
   "metadata": {},
   "source": [
    "# another data set"
   ]
  },
  {
   "cell_type": "code",
   "execution_count": 99,
   "id": "fff2454a",
   "metadata": {},
   "outputs": [
    {
     "data": {
      "text/html": [
       "<div>\n",
       "<style scoped>\n",
       "    .dataframe tbody tr th:only-of-type {\n",
       "        vertical-align: middle;\n",
       "    }\n",
       "\n",
       "    .dataframe tbody tr th {\n",
       "        vertical-align: top;\n",
       "    }\n",
       "\n",
       "    .dataframe thead th {\n",
       "        text-align: right;\n",
       "    }\n",
       "</style>\n",
       "<table border=\"1\" class=\"dataframe\">\n",
       "  <thead>\n",
       "    <tr style=\"text-align: right;\">\n",
       "      <th></th>\n",
       "      <th>category_list</th>\n",
       "      <th>Automotive &amp; Sports</th>\n",
       "      <th>Blanks</th>\n",
       "      <th>Cleantech / Semiconductors</th>\n",
       "      <th>Entertainment</th>\n",
       "      <th>Health</th>\n",
       "      <th>Manufacturing</th>\n",
       "      <th>News, Search and Messaging</th>\n",
       "      <th>Others</th>\n",
       "      <th>Social, Finance, Analytics, Advertising</th>\n",
       "    </tr>\n",
       "  </thead>\n",
       "  <tbody>\n",
       "    <tr>\n",
       "      <th>0</th>\n",
       "      <td>NaN</td>\n",
       "      <td>0</td>\n",
       "      <td>1</td>\n",
       "      <td>0</td>\n",
       "      <td>0</td>\n",
       "      <td>0</td>\n",
       "      <td>0</td>\n",
       "      <td>0</td>\n",
       "      <td>0</td>\n",
       "      <td>0</td>\n",
       "    </tr>\n",
       "    <tr>\n",
       "      <th>1</th>\n",
       "      <td>3D</td>\n",
       "      <td>0</td>\n",
       "      <td>0</td>\n",
       "      <td>0</td>\n",
       "      <td>0</td>\n",
       "      <td>0</td>\n",
       "      <td>1</td>\n",
       "      <td>0</td>\n",
       "      <td>0</td>\n",
       "      <td>0</td>\n",
       "    </tr>\n",
       "    <tr>\n",
       "      <th>2</th>\n",
       "      <td>3D Printing</td>\n",
       "      <td>0</td>\n",
       "      <td>0</td>\n",
       "      <td>0</td>\n",
       "      <td>0</td>\n",
       "      <td>0</td>\n",
       "      <td>1</td>\n",
       "      <td>0</td>\n",
       "      <td>0</td>\n",
       "      <td>0</td>\n",
       "    </tr>\n",
       "    <tr>\n",
       "      <th>3</th>\n",
       "      <td>3D Technology</td>\n",
       "      <td>0</td>\n",
       "      <td>0</td>\n",
       "      <td>0</td>\n",
       "      <td>0</td>\n",
       "      <td>0</td>\n",
       "      <td>1</td>\n",
       "      <td>0</td>\n",
       "      <td>0</td>\n",
       "      <td>0</td>\n",
       "    </tr>\n",
       "    <tr>\n",
       "      <th>4</th>\n",
       "      <td>Accounting</td>\n",
       "      <td>0</td>\n",
       "      <td>0</td>\n",
       "      <td>0</td>\n",
       "      <td>0</td>\n",
       "      <td>0</td>\n",
       "      <td>0</td>\n",
       "      <td>0</td>\n",
       "      <td>0</td>\n",
       "      <td>1</td>\n",
       "    </tr>\n",
       "  </tbody>\n",
       "</table>\n",
       "</div>"
      ],
      "text/plain": [
       "   category_list  Automotive & Sports  Blanks  Cleantech / Semiconductors  \\\n",
       "0            NaN                    0       1                           0   \n",
       "1             3D                    0       0                           0   \n",
       "2    3D Printing                    0       0                           0   \n",
       "3  3D Technology                    0       0                           0   \n",
       "4     Accounting                    0       0                           0   \n",
       "\n",
       "   Entertainment  Health  Manufacturing  News, Search and Messaging  Others  \\\n",
       "0              0       0              0                           0       0   \n",
       "1              0       0              1                           0       0   \n",
       "2              0       0              1                           0       0   \n",
       "3              0       0              1                           0       0   \n",
       "4              0       0              0                           0       0   \n",
       "\n",
       "   Social, Finance, Analytics, Advertising  \n",
       "0                                        0  \n",
       "1                                        0  \n",
       "2                                        0  \n",
       "3                                        0  \n",
       "4                                        1  "
      ]
     },
     "execution_count": 99,
     "metadata": {},
     "output_type": "execute_result"
    }
   ],
   "source": [
    "mapping=pd.read_csv('mapping.csv')\n",
    "mapping.head()"
   ]
  },
  {
   "cell_type": "code",
   "execution_count": 67,
   "id": "7ba0df1c",
   "metadata": {},
   "outputs": [
    {
     "data": {
      "text/plain": [
       "(688, 10)"
      ]
     },
     "execution_count": 67,
     "metadata": {},
     "output_type": "execute_result"
    }
   ],
   "source": [
    "mapping.shape"
   ]
  },
  {
   "cell_type": "code",
   "execution_count": 68,
   "id": "35cdfc27",
   "metadata": {},
   "outputs": [
    {
     "data": {
      "text/plain": [
       "array([nan, '3D', '3D Printing', '3D Technology', 'Accounting',\n",
       "       'Active Lifestyle', 'Ad Targeting', 'Advanced Materials',\n",
       "       'Adventure Travel', 'Advertising', 'Advertising Exchanges',\n",
       "       'Advertising Networks', 'Advertising Platforms', 'Advice',\n",
       "       'Aerospace', 'Agriculture', 'Air Pollution Control', 'Algorithms',\n",
       "       'All Markets', 'All Students', 'Alter0tive Medicine', 'Alumni',\n",
       "       'A0lytics', 'Android', 'Angels', 'Animal Feed',\n",
       "       'Anything Capital Intensive', 'App Discovery', 'App Marketing',\n",
       "       'App Stores', 'Application Performance Monitoring',\n",
       "       'Application Platforms', 'Apps', 'Aquaculture', 'Architecture',\n",
       "       'Archiving', 'Art', 'Artificial Intelligence', 'Artists Globally',\n",
       "       'Assisitive Technology', 'Assisted Living', 'Auctions', 'Audio',\n",
       "       'Audiobooks', 'Augmented Reality', 'Auto', 'Automated Kiosk',\n",
       "       'Automotive', 'B2B', 'B2B Express Delivery', 'Babies',\n",
       "       'Baby Accessories', 'Baby Boomers', 'Baby Safety', 'Banking',\n",
       "       'Batteries', 'Beauty', 'Bicycles', 'Big Data', 'Big Data A0lytics',\n",
       "       'Billing', 'Bio-Pharm', 'Biofuels', 'Bioinformatics',\n",
       "       'Biomass Power Generation', 'Biometrics', 'Biotechnology',\n",
       "       'Bitcoin', 'Blogging Platforms', 'Boating Industry',\n",
       "       'BPO Services', 'Brand Marketing', 'Brewing',\n",
       "       'Bridging Online and Offline', 'Broadcasting', 'Brokers',\n",
       "       'Browser Extensions', 'Building Owners', 'Building Products',\n",
       "       'Business A0lytics', 'Business Development',\n",
       "       'Business Information Systems', 'Business Intelligence',\n",
       "       'Business Productivity', 'Business Services', 'Business Travelers',\n",
       "       'Cable', 'CAD', 'Call Center Automation', 'Can0bis', 'Carbon',\n",
       "       'Career Ma0gement', 'Career Planning', 'Cars', 'Casual Games',\n",
       "       'Celebrity', 'Certification Test', 'Charities', 'Charity',\n",
       "       'Charter Schools', 'Chat', 'Chemicals', 'Child Care',\n",
       "       'Chi0 Internet', 'Civil Engineers', 'Classifieds', 'Clean Energy',\n",
       "       'Clean Technology', 'Clean Technology IT', 'Clinical Trials',\n",
       "       'Cloud-Based Music', 'Cloud Computing', 'Cloud Data Services',\n",
       "       'Cloud Infrastructure', 'Cloud Ma0gement', 'Cloud Security',\n",
       "       'Coffee', 'Collaboration', 'Collaborative Consumption',\n",
       "       'Collectibles', 'College Campuses', 'College Recruiting',\n",
       "       'Colleges', 'Comics', 'Commercial Real Estate', 'Commercial Solar',\n",
       "       'Commodities', 'Communications Hardware',\n",
       "       'Communications Infrastructure', 'Communities',\n",
       "       'Comparison Shopping', 'Computer Vision', 'Computers',\n",
       "       'Concentrated Solar Power', 'Concerts', 'Console Gaming',\n",
       "       'Construction', 'Consulting', 'Consumer Behavior',\n",
       "       'Consumer Electronics', 'Consumer Goods', 'Consumer Internet',\n",
       "       'Consumer Lending', 'Consumers', 'Contact Centers',\n",
       "       'Contact Ma0gement', 'Content', 'Content Creators',\n",
       "       'Content Delivery', 'Content Discovery', 'Content Syndication',\n",
       "       'Contests', 'Cooking', 'Corporate IT', 'Corporate Training',\n",
       "       'Corporate Wellness', 'Cosmetic Surgery', 'Cosmetics', 'Coupons',\n",
       "       'Coworking', 'Craft Beer', 'Creative', 'Creative Industries',\n",
       "       'Credit', 'Credit Cards', 'CRM', 'Crowdfunding', 'Crowdsourcing',\n",
       "       'Curated Web', 'Custom Retail', 'Customer Service',\n",
       "       'Customer Support Tools', 'Cyber', 'Cyber Security',\n",
       "       'Data Center Automation', 'Data Center Infrastructure',\n",
       "       'Data Centers', 'Data Integration', 'Data Mining', 'Data Privacy',\n",
       "       'Data Security', 'Data Visualization', 'Databases',\n",
       "       'Debt Collecting', 'Defense', 'Delivery', 'Demographies', 'Dental',\n",
       "       'Design', 'Designers', 'Developer APIs', 'Developer Tools',\n",
       "       'Development Platforms', 'Diabetes', 'Diagnostics',\n",
       "       'Dietary Supplements', 'Digital Entertainment', 'Digital Media',\n",
       "       'Digital Rights Ma0gement', 'Digital Sig0ge', 'Direct Advertising',\n",
       "       'Direct Marketing', 'Direct Sales', 'Discounts', 'Displays',\n",
       "       'Disruptive Models', 'Distribution', 'Distributors', 'DIY',\n",
       "       'Doctors', 'Document Ma0gement', 'DOD/Military', 'Domains',\n",
       "       'Drones', 'E-Books', 'E-Commerce', 'E-Commerce Platforms',\n",
       "       'Early-Stage Technology', 'EBooks', 'EDA Tools', 'Ediscovery',\n",
       "       'EdTech', 'Education', 'Educatio0l Games', 'Edutainment',\n",
       "       'Elder Care', 'Electric Vehicles', 'Electrical Distribution',\n",
       "       'Electronic Health Records', 'Electronics', 'Email',\n",
       "       'Email Marketing', 'Email Newsletters',\n",
       "       'Embedded Hardware and Software', 'Emerging Markets',\n",
       "       'Employer Benefits Programs', 'Employment', 'Energy',\n",
       "       'Energy Efficiency', 'Energy IT', 'Energy Ma0gement',\n",
       "       'Energy Storage', 'Engineering Firms', 'Enterprise 2.0',\n",
       "       'Enterprise Application', 'Enterprise Purchasing',\n",
       "       'Enterprise Resource Planning', 'Enterprise Search',\n",
       "       'Enterprise Security', 'Enterprise Software', 'Enterprises',\n",
       "       'Entertainment', 'Entertainment Industry', 'Entrepreneur',\n",
       "       'Environmental Innovation', 'Estimation and Quoting',\n",
       "       'Event Ma0gement', 'Events', 'Exercise', 'Eyewear',\n",
       "       'Face Recognition', 'Facebook Applications', 'Families',\n",
       "       'Fantasy Sports', 'Farmers Market', 'Farming', 'Fashion',\n",
       "       'Fertility', 'Field Support Services', 'File Sharing', 'Film',\n",
       "       'Film Distribution', 'Film Production', 'Fi0nce',\n",
       "       'Fi0nce Technology', 'Fi0ncial Exchanges', 'Fi0ncial Services',\n",
       "       'FinTech', 'Fitness', 'Flash Sales', 'Flash Storage',\n",
       "       'Fleet Ma0gement', 'Flowers', 'Fmcg', 'Food Processing', 'Forums',\n",
       "       'Fraud Detection', 'Freelancers', 'Freemium', 'FreetoPlay Gaming',\n",
       "       'Fruit', 'Fuel Cells', 'Fuels', 'Funeral Industry', 'Furniture',\n",
       "       'Gadget', 'Gambling', 'Game', 'Game Mechanics', 'Games',\n",
       "       'Gamification', 'Gas', 'Gay & Lesbian', 'General Public Worldwide',\n",
       "       'Genetic Testing', 'Geospatial', 'Gift Card', 'Gift Exchange',\n",
       "       'Gift Registries', 'Gold', 'Gover0nce', 'Government Innovation',\n",
       "       'Governments', 'Gps', 'Graphics', 'Green', 'Green Consumer Goods',\n",
       "       'Groceries', 'Group Buying', 'Group SMS', 'Guides', 'Handmade',\n",
       "       'Hardware', 'Hardware + Software', 'Health and Insurance',\n",
       "       'Health and Wellness', 'Health Care',\n",
       "       'Health Care Information Technology', 'Health Diagnostics',\n",
       "       'Health Services Industry', 'Healthcare Services',\n",
       "       'Heavy Industry', 'Hedge Funds', 'High School Students',\n",
       "       'High Schools', 'High Tech', 'Home & Garden', 'Home Automation',\n",
       "       'Home Decor', 'Home Owners', 'Home Renovation',\n",
       "       'Homeland Security', 'Homeless Shelter', 'Hospitality',\n",
       "       'Hospitals', 'Hotels', 'Human Computer Interaction',\n",
       "       'Human Resource Automation', 'Human Resources', 'Humanitarian',\n",
       "       'IaaS', 'ICT', 'Identity', 'Identity Ma0gement',\n",
       "       'Image Recognition', 'Impact Investing', 'In-Flight Entertainment',\n",
       "       'Incentives', 'Incubators', 'Independent Music Labels',\n",
       "       'Independent Pharmacies', 'Indians', 'Indoor Positioning',\n",
       "       'Industrial', 'Industrial Automation', 'Information Security',\n",
       "       'Information Services', 'Information Technology', 'Infrastructure',\n",
       "       'Innovation Engineering', 'Innovation Ma0gement', 'Insurance',\n",
       "       'Intellectual Asset Ma0gement', 'Intellectual Property',\n",
       "       'Intelligent Systems', 'Interest Graph', 'Interface Design',\n",
       "       'Interior Design', 'Internet', 'Internet Infrastructure',\n",
       "       'Internet Marketing', 'Internet of Things',\n",
       "       'Internet Radio Market', 'Internet Service Providers',\n",
       "       'Investment Ma0gement', 'iOS', 'iPad', 'iPhone',\n",
       "       'IT and Cybersecurity', 'IT Ma0gement', 'Jewelry', 'Jour0lism',\n",
       "       'K-12 Education', 'Kids', 'Knowledge Ma0gement', 'Landscaping',\n",
       "       'Language Learning', 'Lasers', 'Law Enforcement',\n",
       "       'Lead Generation', 'Lead Ma0gement', 'Legal', 'Leisure',\n",
       "       'Licensing', 'Life Sciences', 'Lifestyle', 'Lifestyle Businesses',\n",
       "       'Lifestyle Products', 'Lighting', 'Limousines', 'Linux', 'Local',\n",
       "       'Local Advertising', 'Local Based Services', 'Local Businesses',\n",
       "       'Local Commerce', 'Local Search', 'Location Based Services',\n",
       "       'Logistics', 'Logistics Company', 'Lotteries', 'Low Bid Auctions',\n",
       "       'Loyalty Programs', 'M2M', 'Machine Learning', 'Manufacturing',\n",
       "       'Maps', 'Market Research', 'Marketing Automation', 'Marketplaces',\n",
       "       'Mass Customization', 'Match-Making', 'Material Science',\n",
       "       'Mechanical Solutions', 'Media', 'Medical', 'Medical Devices',\n",
       "       'Medical Professio0ls', 'Meeting Software', 'Mens Specific',\n",
       "       'Messaging', 'mHealth', 'Micro-Enterprises', 'MicroBlogging',\n",
       "       'Minerals', 'Mining Technologies', 'Mobile', 'Mobile Advertising',\n",
       "       'Mobile A0lytics', 'Mobile Commerce', 'Mobile Devices',\n",
       "       'Mobile Enterprise', 'Mobile Games', 'Mobile Health',\n",
       "       'Mobile Infrastructure', 'Mobile Payments', 'Mobile Security',\n",
       "       'Mobile Shopping', 'Mobile Social', 'Mobile Software Tools',\n",
       "       'Mobile Video', 'Mobility', 'Monetization', 'Moneymaking',\n",
       "       'Multi-level Marketing', 'Music', 'Music Education',\n",
       "       'Music Services', 'Music Venues', 'Musical Instruments',\n",
       "       'Musicians', '0notechnology', '0tural Language Processing',\n",
       "       '0tural Resources', '0vigation', 'Network Security', 'Networking',\n",
       "       'Neuroscience', 'New Product Development', 'New Technologies',\n",
       "       'News', 'Non-Tech', 'Non Profit', 'Nonprofits', 'Nutrition',\n",
       "       'Office Space', 'Oil', 'Oil & Gas', 'Oil and Gas', 'Online Dating',\n",
       "       'Online Education', 'Online Gaming', 'Online Identity',\n",
       "       'Online Rental', 'Online Reservations', 'Online Scheduling',\n",
       "       'Online Shopping', 'Online Travel', 'Online Video Advertising',\n",
       "       'Open Source', 'Opinions', 'Optical Communications',\n",
       "       'Optimization', 'Organic', 'Organic Food', 'Outdoors',\n",
       "       'Outsourcing', 'P2P Money Transfer', 'PaaS', 'Parenting',\n",
       "       'Parking', 'Payments', 'Peer-to-Peer', 'Performance Marketing',\n",
       "       'Perso0l Branding', 'Perso0l Data', 'Perso0l Fi0nce',\n",
       "       'Perso0l Health', 'Perso0lization', 'Pervasive Computing', 'Pets',\n",
       "       'Pharmaceuticals', 'Photo Editing', 'Photo Sharing', 'Photography',\n",
       "       'Physical Security', 'Physicians', 'Plumbers', 'Point of Sale',\n",
       "       'Politics', 'Polling', 'Portals', 'Postal and Courier Services',\n",
       "       'Pre Seed', 'Predictive A0lytics', 'Presentations',\n",
       "       'Price Comparison', 'Printing', 'Privacy', 'Private School',\n",
       "       'Private Social Networking', 'Procurement', 'Product Design',\n",
       "       'Product Development Services', 'Productivity',\n",
       "       'Productivity Software', 'Professio0l Networking',\n",
       "       'Professio0l Services', 'Project Ma0gement', 'Promotio0l',\n",
       "       'Property Ma0gement', 'Public Relations', 'Public Safety',\n",
       "       'Public Transportation', 'Publishing', 'Q&A', 'QR Codes',\n",
       "       'Real Estate', 'Real Time', 'Realtors', 'Recreation', 'Recruiting',\n",
       "       'Recycling', 'Religion', 'Renewable Energies', 'Renewable Tech',\n",
       "       'Rental Housing', 'Reputation', 'Resorts', 'Restaurants', 'Retail',\n",
       "       'Retail Technology', 'Reviews and Recommendations', 'RFID',\n",
       "       'Ride Sharing', 'Risk Ma0gement', 'Robotics', 'SaaS',\n",
       "       'Sales and Marketing', 'Sales Automation', 'Search',\n",
       "       'Search Marketing', 'Security',\n",
       "       'Semiconductor Manufacturing Equipment', 'Semiconductors',\n",
       "       'Senior Citizens', 'Senior Health', 'Sensors', 'SEO',\n",
       "       'Service Industries', 'Service Providers', 'Services', 'SexTech',\n",
       "       'Shared Services', 'Shipping', 'Shoes', 'Shopping', 'Simulation',\n",
       "       'Skill Assessment', 'Small and Medium Businesses', 'Smart Grid',\n",
       "       'SNS', 'Soccer', 'Social + Mobile + Local', 'Social Bookmarking',\n",
       "       'Social Business', 'Social Buying', 'Social Commerce',\n",
       "       'Social CRM', 'Social Fundraising', 'Social Games', 'Social Media',\n",
       "       'Social Media Ma0gement', 'Social Media Marketing',\n",
       "       'Social Media Platforms', 'Social Network Media', 'Social News',\n",
       "       'Social Recruiting', 'Social Television', 'Social Travel',\n",
       "       'Software', 'Solar', 'Space Travel', 'Specialty Chemicals',\n",
       "       'Specialty Foods', 'Speech Recognition', 'Sporting Goods',\n",
       "       'Sports', 'Staffing Firms', 'Startups', 'Stock Exchanges',\n",
       "       'Storage', 'Subscription Service', 'Supply Chain Ma0gement',\n",
       "       'Surveys', 'Synchronization', 'Systems', 'Task Ma0gement', 'Taxis',\n",
       "       'Tea', 'Technology', 'Telecommunications', 'Television',\n",
       "       'Textiles', 'Theatre', 'Therapeutics', 'Ticketing', 'Tourism',\n",
       "       'Tracking', 'Trading', 'Training', 'Translation', 'Transportation',\n",
       "       'Travel', 'Travel & Tourism', 'Universities',\n",
       "       'University Students', 'Unmanned Air Systems', 'Usability',\n",
       "       'User Experience Design', 'User Interface', 'Utilities',\n",
       "       'Vending and Concessions', 'Venture Capital', 'Veteri0ry', 'Video',\n",
       "       'Video Conferencing', 'Video Games', 'Video on Demand',\n",
       "       'Video Streaming', 'Virtual Workforces', 'VoIP', 'Waste Ma0gement',\n",
       "       'Watch', 'Water', 'Water Purification', 'Wearables',\n",
       "       'Web Browsers', 'Web Design', 'Web Development', 'Web Hosting',\n",
       "       'Web Tools', 'Weddings', 'Wholesale', 'Wine And Spirits',\n",
       "       'Wireless', 'Women', 'Young Adults'], dtype=object)"
      ]
     },
     "execution_count": 68,
     "metadata": {},
     "output_type": "execute_result"
    }
   ],
   "source": [
    "mapping['category_list'].unique()"
   ]
  },
  {
   "cell_type": "code",
   "execution_count": 69,
   "id": "6cf781ed",
   "metadata": {},
   "outputs": [],
   "source": [
    "mapping['category_list']=mapping['category_list'].str.replace('0','na')"
   ]
  },
  {
   "cell_type": "code",
   "execution_count": null,
   "id": "36e13396",
   "metadata": {},
   "outputs": [],
   "source": [
    "#using melt function to reshape the data so that each category_list is mapped to its main sector"
   ]
  },
  {
   "cell_type": "code",
   "execution_count": 74,
   "id": "6fb2a6aa",
   "metadata": {},
   "outputs": [],
   "source": [
    "melt_df=pd.melt(mapping,id_vars='category_list',var_name='main_sector')\n",
    "melt_df2=melt_df[melt_df['value']==1]"
   ]
  },
  {
   "cell_type": "code",
   "execution_count": 76,
   "id": "33144801",
   "metadata": {},
   "outputs": [],
   "source": [
    "melt_df2.reset_index(drop=True,inplace=True)"
   ]
  },
  {
   "cell_type": "code",
   "execution_count": 77,
   "id": "faefc8e3",
   "metadata": {},
   "outputs": [],
   "source": [
    "melt_df2.drop('value',axis=1,inplace=True)"
   ]
  },
  {
   "cell_type": "code",
   "execution_count": 78,
   "id": "7061ac9a",
   "metadata": {},
   "outputs": [
    {
     "data": {
      "text/html": [
       "<div>\n",
       "<style scoped>\n",
       "    .dataframe tbody tr th:only-of-type {\n",
       "        vertical-align: middle;\n",
       "    }\n",
       "\n",
       "    .dataframe tbody tr th {\n",
       "        vertical-align: top;\n",
       "    }\n",
       "\n",
       "    .dataframe thead th {\n",
       "        text-align: right;\n",
       "    }\n",
       "</style>\n",
       "<table border=\"1\" class=\"dataframe\">\n",
       "  <thead>\n",
       "    <tr style=\"text-align: right;\">\n",
       "      <th></th>\n",
       "      <th>category_list</th>\n",
       "      <th>main_sector</th>\n",
       "    </tr>\n",
       "  </thead>\n",
       "  <tbody>\n",
       "    <tr>\n",
       "      <th>0</th>\n",
       "      <td>Adventure Travel</td>\n",
       "      <td>Automotive &amp; Sports</td>\n",
       "    </tr>\n",
       "    <tr>\n",
       "      <th>1</th>\n",
       "      <td>Aerospace</td>\n",
       "      <td>Automotive &amp; Sports</td>\n",
       "    </tr>\n",
       "    <tr>\n",
       "      <th>2</th>\n",
       "      <td>Auto</td>\n",
       "      <td>Automotive &amp; Sports</td>\n",
       "    </tr>\n",
       "    <tr>\n",
       "      <th>3</th>\n",
       "      <td>Automated Kiosk</td>\n",
       "      <td>Automotive &amp; Sports</td>\n",
       "    </tr>\n",
       "    <tr>\n",
       "      <th>4</th>\n",
       "      <td>Automotive</td>\n",
       "      <td>Automotive &amp; Sports</td>\n",
       "    </tr>\n",
       "    <tr>\n",
       "      <th>...</th>\n",
       "      <td>...</td>\n",
       "      <td>...</td>\n",
       "    </tr>\n",
       "    <tr>\n",
       "      <th>683</th>\n",
       "      <td>Social Recruiting</td>\n",
       "      <td>Social, Finance, Analytics, Advertising</td>\n",
       "    </tr>\n",
       "    <tr>\n",
       "      <th>684</th>\n",
       "      <td>Social Television</td>\n",
       "      <td>Social, Finance, Analytics, Advertising</td>\n",
       "    </tr>\n",
       "    <tr>\n",
       "      <th>685</th>\n",
       "      <td>Social Travel</td>\n",
       "      <td>Social, Finance, Analytics, Advertising</td>\n",
       "    </tr>\n",
       "    <tr>\n",
       "      <th>686</th>\n",
       "      <td>Stock Exchanges</td>\n",
       "      <td>Social, Finance, Analytics, Advertising</td>\n",
       "    </tr>\n",
       "    <tr>\n",
       "      <th>687</th>\n",
       "      <td>Venture Capital</td>\n",
       "      <td>Social, Finance, Analytics, Advertising</td>\n",
       "    </tr>\n",
       "  </tbody>\n",
       "</table>\n",
       "<p>688 rows × 2 columns</p>\n",
       "</div>"
      ],
      "text/plain": [
       "         category_list                              main_sector\n",
       "0     Adventure Travel                      Automotive & Sports\n",
       "1            Aerospace                      Automotive & Sports\n",
       "2                 Auto                      Automotive & Sports\n",
       "3      Automated Kiosk                      Automotive & Sports\n",
       "4           Automotive                      Automotive & Sports\n",
       "..                 ...                                      ...\n",
       "683  Social Recruiting  Social, Finance, Analytics, Advertising\n",
       "684  Social Television  Social, Finance, Analytics, Advertising\n",
       "685      Social Travel  Social, Finance, Analytics, Advertising\n",
       "686    Stock Exchanges  Social, Finance, Analytics, Advertising\n",
       "687    Venture Capital  Social, Finance, Analytics, Advertising\n",
       "\n",
       "[688 rows x 2 columns]"
      ]
     },
     "execution_count": 78,
     "metadata": {},
     "output_type": "execute_result"
    }
   ],
   "source": [
    "melt_df2"
   ]
  },
  {
   "cell_type": "code",
   "execution_count": 79,
   "id": "ed1ffef3",
   "metadata": {},
   "outputs": [
    {
     "data": {
      "text/html": [
       "<div>\n",
       "<style scoped>\n",
       "    .dataframe tbody tr th:only-of-type {\n",
       "        vertical-align: middle;\n",
       "    }\n",
       "\n",
       "    .dataframe tbody tr th {\n",
       "        vertical-align: top;\n",
       "    }\n",
       "\n",
       "    .dataframe thead th {\n",
       "        text-align: right;\n",
       "    }\n",
       "</style>\n",
       "<table border=\"1\" class=\"dataframe\">\n",
       "  <thead>\n",
       "    <tr style=\"text-align: right;\">\n",
       "      <th></th>\n",
       "      <th>permalink</th>\n",
       "      <th>name</th>\n",
       "      <th>category_list</th>\n",
       "      <th>country_code</th>\n",
       "      <th>funding_round_type</th>\n",
       "      <th>raised_amount_usd</th>\n",
       "    </tr>\n",
       "  </thead>\n",
       "  <tbody>\n",
       "    <tr>\n",
       "      <th>0</th>\n",
       "      <td>/organization/-fame</td>\n",
       "      <td>#fame</td>\n",
       "      <td>Media</td>\n",
       "      <td>IND</td>\n",
       "      <td>venture</td>\n",
       "      <td>10000000.0</td>\n",
       "    </tr>\n",
       "    <tr>\n",
       "      <th>1</th>\n",
       "      <td>/organization/21diamonds-india</td>\n",
       "      <td>21Diamonds</td>\n",
       "      <td>E-Commerce</td>\n",
       "      <td>IND</td>\n",
       "      <td>venture</td>\n",
       "      <td>6369507.0</td>\n",
       "    </tr>\n",
       "    <tr>\n",
       "      <th>2</th>\n",
       "      <td>/organization/247-learning-private</td>\n",
       "      <td>24x7 Learning</td>\n",
       "      <td>EdTech</td>\n",
       "      <td>IND</td>\n",
       "      <td>venture</td>\n",
       "      <td>4000000.0</td>\n",
       "    </tr>\n",
       "    <tr>\n",
       "      <th>3</th>\n",
       "      <td>/organization/3dsoc</td>\n",
       "      <td>3DSoC</td>\n",
       "      <td>3D</td>\n",
       "      <td>IND</td>\n",
       "      <td>venture</td>\n",
       "      <td>1240000.0</td>\n",
       "    </tr>\n",
       "    <tr>\n",
       "      <th>4</th>\n",
       "      <td>/organization/3dsoc</td>\n",
       "      <td>3DSoC</td>\n",
       "      <td>3D</td>\n",
       "      <td>IND</td>\n",
       "      <td>venture</td>\n",
       "      <td>825000.0</td>\n",
       "    </tr>\n",
       "    <tr>\n",
       "      <th>...</th>\n",
       "      <td>...</td>\n",
       "      <td>...</td>\n",
       "      <td>...</td>\n",
       "      <td>...</td>\n",
       "      <td>...</td>\n",
       "      <td>...</td>\n",
       "    </tr>\n",
       "    <tr>\n",
       "      <th>40044</th>\n",
       "      <td>/organization/zubka</td>\n",
       "      <td>Zubka</td>\n",
       "      <td>Consulting</td>\n",
       "      <td>GBR</td>\n",
       "      <td>venture</td>\n",
       "      <td>3919186.0</td>\n",
       "    </tr>\n",
       "    <tr>\n",
       "      <th>40045</th>\n",
       "      <td>/organization/zutux</td>\n",
       "      <td>Zutux</td>\n",
       "      <td>E-Commerce</td>\n",
       "      <td>GBR</td>\n",
       "      <td>venture</td>\n",
       "      <td>1503926.0</td>\n",
       "    </tr>\n",
       "    <tr>\n",
       "      <th>40046</th>\n",
       "      <td>/organization/zyncd</td>\n",
       "      <td>Zyncd</td>\n",
       "      <td>Crowdsourcing</td>\n",
       "      <td>GBR</td>\n",
       "      <td>venture</td>\n",
       "      <td>144451.0</td>\n",
       "    </tr>\n",
       "    <tr>\n",
       "      <th>40047</th>\n",
       "      <td>/organization/zynstra</td>\n",
       "      <td>Zynstra</td>\n",
       "      <td>Software</td>\n",
       "      <td>GBR</td>\n",
       "      <td>venture</td>\n",
       "      <td>8400000.0</td>\n",
       "    </tr>\n",
       "    <tr>\n",
       "      <th>40048</th>\n",
       "      <td>/organization/zynstra</td>\n",
       "      <td>Zynstra</td>\n",
       "      <td>Software</td>\n",
       "      <td>GBR</td>\n",
       "      <td>venture</td>\n",
       "      <td>3800000.0</td>\n",
       "    </tr>\n",
       "  </tbody>\n",
       "</table>\n",
       "<p>38803 rows × 6 columns</p>\n",
       "</div>"
      ],
      "text/plain": [
       "                                permalink           name  category_list  \\\n",
       "0                     /organization/-fame          #fame          Media   \n",
       "1          /organization/21diamonds-india     21Diamonds     E-Commerce   \n",
       "2      /organization/247-learning-private  24x7 Learning         EdTech   \n",
       "3                     /organization/3dsoc          3DSoC             3D   \n",
       "4                     /organization/3dsoc          3DSoC             3D   \n",
       "...                                   ...            ...            ...   \n",
       "40044                 /organization/zubka          Zubka     Consulting   \n",
       "40045                 /organization/zutux          Zutux     E-Commerce   \n",
       "40046                 /organization/zyncd          Zyncd  Crowdsourcing   \n",
       "40047               /organization/zynstra        Zynstra       Software   \n",
       "40048               /organization/zynstra        Zynstra       Software   \n",
       "\n",
       "      country_code funding_round_type  raised_amount_usd  \n",
       "0              IND            venture         10000000.0  \n",
       "1              IND            venture          6369507.0  \n",
       "2              IND            venture          4000000.0  \n",
       "3              IND            venture          1240000.0  \n",
       "4              IND            venture           825000.0  \n",
       "...            ...                ...                ...  \n",
       "40044          GBR            venture          3919186.0  \n",
       "40045          GBR            venture          1503926.0  \n",
       "40046          GBR            venture           144451.0  \n",
       "40047          GBR            venture          8400000.0  \n",
       "40048          GBR            venture          3800000.0  \n",
       "\n",
       "[38803 rows x 6 columns]"
      ]
     },
     "execution_count": 79,
     "metadata": {},
     "output_type": "execute_result"
    }
   ],
   "source": [
    "master_frame5"
   ]
  },
  {
   "cell_type": "markdown",
   "id": "609f6a6b",
   "metadata": {},
   "source": [
    "#### Code for a merged data frame with each primary sector mapped to its main sector (the primary sector should be present in a separate column)."
   ]
  },
  {
   "cell_type": "code",
   "execution_count": 80,
   "id": "a32561bc",
   "metadata": {},
   "outputs": [],
   "source": [
    "master_frame6=pd.merge(master_frame5,melt_df2,on='category_list')"
   ]
  },
  {
   "cell_type": "code",
   "execution_count": 81,
   "id": "6e97ebcd",
   "metadata": {},
   "outputs": [
    {
     "data": {
      "text/html": [
       "<div>\n",
       "<style scoped>\n",
       "    .dataframe tbody tr th:only-of-type {\n",
       "        vertical-align: middle;\n",
       "    }\n",
       "\n",
       "    .dataframe tbody tr th {\n",
       "        vertical-align: top;\n",
       "    }\n",
       "\n",
       "    .dataframe thead th {\n",
       "        text-align: right;\n",
       "    }\n",
       "</style>\n",
       "<table border=\"1\" class=\"dataframe\">\n",
       "  <thead>\n",
       "    <tr style=\"text-align: right;\">\n",
       "      <th></th>\n",
       "      <th>permalink</th>\n",
       "      <th>name</th>\n",
       "      <th>category_list</th>\n",
       "      <th>country_code</th>\n",
       "      <th>funding_round_type</th>\n",
       "      <th>raised_amount_usd</th>\n",
       "      <th>main_sector</th>\n",
       "    </tr>\n",
       "  </thead>\n",
       "  <tbody>\n",
       "    <tr>\n",
       "      <th>0</th>\n",
       "      <td>/organization/-fame</td>\n",
       "      <td>#fame</td>\n",
       "      <td>Media</td>\n",
       "      <td>IND</td>\n",
       "      <td>venture</td>\n",
       "      <td>10000000.0</td>\n",
       "      <td>Entertainment</td>\n",
       "    </tr>\n",
       "    <tr>\n",
       "      <th>1</th>\n",
       "      <td>/organization/manas-informatics</td>\n",
       "      <td>Manas Informatic</td>\n",
       "      <td>Media</td>\n",
       "      <td>IND</td>\n",
       "      <td>venture</td>\n",
       "      <td>160000.0</td>\n",
       "      <td>Entertainment</td>\n",
       "    </tr>\n",
       "    <tr>\n",
       "      <th>2</th>\n",
       "      <td>/organization/all-def-digital</td>\n",
       "      <td>All Def Digital</td>\n",
       "      <td>Media</td>\n",
       "      <td>USA</td>\n",
       "      <td>venture</td>\n",
       "      <td>5000000.0</td>\n",
       "      <td>Entertainment</td>\n",
       "    </tr>\n",
       "    <tr>\n",
       "      <th>3</th>\n",
       "      <td>/organization/audiosocket</td>\n",
       "      <td>Audiosocket</td>\n",
       "      <td>Media</td>\n",
       "      <td>USA</td>\n",
       "      <td>venture</td>\n",
       "      <td>650000.0</td>\n",
       "      <td>Entertainment</td>\n",
       "    </tr>\n",
       "    <tr>\n",
       "      <th>4</th>\n",
       "      <td>/organization/audiosocket</td>\n",
       "      <td>Audiosocket</td>\n",
       "      <td>Media</td>\n",
       "      <td>USA</td>\n",
       "      <td>venture</td>\n",
       "      <td>750000.0</td>\n",
       "      <td>Entertainment</td>\n",
       "    </tr>\n",
       "    <tr>\n",
       "      <th>...</th>\n",
       "      <td>...</td>\n",
       "      <td>...</td>\n",
       "      <td>...</td>\n",
       "      <td>...</td>\n",
       "      <td>...</td>\n",
       "      <td>...</td>\n",
       "      <td>...</td>\n",
       "    </tr>\n",
       "    <tr>\n",
       "      <th>38633</th>\n",
       "      <td>/organization/smarkets</td>\n",
       "      <td>Smarkets</td>\n",
       "      <td>Financial Exchanges</td>\n",
       "      <td>GBR</td>\n",
       "      <td>venture</td>\n",
       "      <td>2300000.0</td>\n",
       "      <td>Social, Finance, Analytics, Advertising</td>\n",
       "    </tr>\n",
       "    <tr>\n",
       "      <th>38634</th>\n",
       "      <td>/organization/stingray-geophysical</td>\n",
       "      <td>Stingray Geophysical</td>\n",
       "      <td>Gas</td>\n",
       "      <td>GBR</td>\n",
       "      <td>venture</td>\n",
       "      <td>1300000.0</td>\n",
       "      <td>Cleantech / Semiconductors</td>\n",
       "    </tr>\n",
       "    <tr>\n",
       "      <th>38635</th>\n",
       "      <td>/organization/stingray-geophysical</td>\n",
       "      <td>Stingray Geophysical</td>\n",
       "      <td>Gas</td>\n",
       "      <td>GBR</td>\n",
       "      <td>venture</td>\n",
       "      <td>4570000.0</td>\n",
       "      <td>Cleantech / Semiconductors</td>\n",
       "    </tr>\n",
       "    <tr>\n",
       "      <th>38636</th>\n",
       "      <td>/organization/stingray-geophysical</td>\n",
       "      <td>Stingray Geophysical</td>\n",
       "      <td>Gas</td>\n",
       "      <td>GBR</td>\n",
       "      <td>venture</td>\n",
       "      <td>11460000.0</td>\n",
       "      <td>Cleantech / Semiconductors</td>\n",
       "    </tr>\n",
       "    <tr>\n",
       "      <th>38637</th>\n",
       "      <td>/organization/vector-watch</td>\n",
       "      <td>Vector Watch</td>\n",
       "      <td>Watch</td>\n",
       "      <td>GBR</td>\n",
       "      <td>venture</td>\n",
       "      <td>5000000.0</td>\n",
       "      <td>Others</td>\n",
       "    </tr>\n",
       "  </tbody>\n",
       "</table>\n",
       "<p>38638 rows × 7 columns</p>\n",
       "</div>"
      ],
      "text/plain": [
       "                                permalink                  name  \\\n",
       "0                     /organization/-fame                 #fame   \n",
       "1         /organization/manas-informatics      Manas Informatic   \n",
       "2           /organization/all-def-digital       All Def Digital   \n",
       "3               /organization/audiosocket           Audiosocket   \n",
       "4               /organization/audiosocket           Audiosocket   \n",
       "...                                   ...                   ...   \n",
       "38633              /organization/smarkets              Smarkets   \n",
       "38634  /organization/stingray-geophysical  Stingray Geophysical   \n",
       "38635  /organization/stingray-geophysical  Stingray Geophysical   \n",
       "38636  /organization/stingray-geophysical  Stingray Geophysical   \n",
       "38637          /organization/vector-watch          Vector Watch   \n",
       "\n",
       "             category_list country_code funding_round_type  raised_amount_usd  \\\n",
       "0                    Media          IND            venture         10000000.0   \n",
       "1                    Media          IND            venture           160000.0   \n",
       "2                    Media          USA            venture          5000000.0   \n",
       "3                    Media          USA            venture           650000.0   \n",
       "4                    Media          USA            venture           750000.0   \n",
       "...                    ...          ...                ...                ...   \n",
       "38633  Financial Exchanges          GBR            venture          2300000.0   \n",
       "38634                  Gas          GBR            venture          1300000.0   \n",
       "38635                  Gas          GBR            venture          4570000.0   \n",
       "38636                  Gas          GBR            venture         11460000.0   \n",
       "38637                Watch          GBR            venture          5000000.0   \n",
       "\n",
       "                                   main_sector  \n",
       "0                                Entertainment  \n",
       "1                                Entertainment  \n",
       "2                                Entertainment  \n",
       "3                                Entertainment  \n",
       "4                                Entertainment  \n",
       "...                                        ...  \n",
       "38633  Social, Finance, Analytics, Advertising  \n",
       "38634               Cleantech / Semiconductors  \n",
       "38635               Cleantech / Semiconductors  \n",
       "38636               Cleantech / Semiconductors  \n",
       "38637                                   Others  \n",
       "\n",
       "[38638 rows x 7 columns]"
      ]
     },
     "execution_count": 81,
     "metadata": {},
     "output_type": "execute_result"
    }
   ],
   "source": [
    "master_frame6"
   ]
  },
  {
   "cell_type": "markdown",
   "id": "d533ba85",
   "metadata": {},
   "source": [
    "#  Sector analysis 2"
   ]
  },
  {
   "cell_type": "markdown",
   "id": "19cefb75",
   "metadata": {},
   "source": [
    "Now, the aim is to find out the most heavily invested main sectors in each of the three countries (for funding type FT and investments range of 5-15 M USD)."
   ]
  },
  {
   "cell_type": "markdown",
   "id": "0d49b016",
   "metadata": {},
   "source": [
    "Create three separate data frames D1, D2 and D3 for each of the three countries containing the observations of funding type FT falling within the 5-15 million USD range"
   ]
  },
  {
   "cell_type": "code",
   "execution_count": 82,
   "id": "f49e2411",
   "metadata": {},
   "outputs": [],
   "source": [
    "D1=master_frame6[master_frame6['country_code']==top_3_lst[0]]\n",
    "D2=master_frame6[master_frame6['country_code']==top_3_lst[1]]\n",
    "D3=master_frame6[master_frame6['country_code']==top_3_lst[2]]"
   ]
  },
  {
   "cell_type": "code",
   "execution_count": 83,
   "id": "8ec0ed6c",
   "metadata": {},
   "outputs": [],
   "source": [
    "D1.reset_index(drop=True,inplace=True)\n",
    "D2.reset_index(drop=True,inplace=True)\n",
    "D3.reset_index(drop=True,inplace=True)"
   ]
  },
  {
   "cell_type": "code",
   "execution_count": 84,
   "id": "46d375a8",
   "metadata": {},
   "outputs": [
    {
     "data": {
      "text/html": [
       "<div>\n",
       "<style scoped>\n",
       "    .dataframe tbody tr th:only-of-type {\n",
       "        vertical-align: middle;\n",
       "    }\n",
       "\n",
       "    .dataframe tbody tr th {\n",
       "        vertical-align: top;\n",
       "    }\n",
       "\n",
       "    .dataframe thead th {\n",
       "        text-align: right;\n",
       "    }\n",
       "</style>\n",
       "<table border=\"1\" class=\"dataframe\">\n",
       "  <thead>\n",
       "    <tr style=\"text-align: right;\">\n",
       "      <th></th>\n",
       "      <th>permalink</th>\n",
       "      <th>name</th>\n",
       "      <th>category_list</th>\n",
       "      <th>country_code</th>\n",
       "      <th>funding_round_type</th>\n",
       "      <th>raised_amount_usd</th>\n",
       "      <th>main_sector</th>\n",
       "    </tr>\n",
       "  </thead>\n",
       "  <tbody>\n",
       "    <tr>\n",
       "      <th>0</th>\n",
       "      <td>/organization/all-def-digital</td>\n",
       "      <td>All Def Digital</td>\n",
       "      <td>Media</td>\n",
       "      <td>USA</td>\n",
       "      <td>venture</td>\n",
       "      <td>5000000.0</td>\n",
       "      <td>Entertainment</td>\n",
       "    </tr>\n",
       "    <tr>\n",
       "      <th>1</th>\n",
       "      <td>/organization/audiosocket</td>\n",
       "      <td>Audiosocket</td>\n",
       "      <td>Media</td>\n",
       "      <td>USA</td>\n",
       "      <td>venture</td>\n",
       "      <td>650000.0</td>\n",
       "      <td>Entertainment</td>\n",
       "    </tr>\n",
       "    <tr>\n",
       "      <th>2</th>\n",
       "      <td>/organization/audiosocket</td>\n",
       "      <td>Audiosocket</td>\n",
       "      <td>Media</td>\n",
       "      <td>USA</td>\n",
       "      <td>venture</td>\n",
       "      <td>750000.0</td>\n",
       "      <td>Entertainment</td>\n",
       "    </tr>\n",
       "    <tr>\n",
       "      <th>3</th>\n",
       "      <td>/organization/audiosocket</td>\n",
       "      <td>Audiosocket</td>\n",
       "      <td>Media</td>\n",
       "      <td>USA</td>\n",
       "      <td>venture</td>\n",
       "      <td>1582300.0</td>\n",
       "      <td>Entertainment</td>\n",
       "    </tr>\n",
       "    <tr>\n",
       "      <th>4</th>\n",
       "      <td>/organization/babble</td>\n",
       "      <td>Babble</td>\n",
       "      <td>Media</td>\n",
       "      <td>USA</td>\n",
       "      <td>venture</td>\n",
       "      <td>2000000.0</td>\n",
       "      <td>Entertainment</td>\n",
       "    </tr>\n",
       "  </tbody>\n",
       "</table>\n",
       "</div>"
      ],
      "text/plain": [
       "                       permalink             name category_list country_code  \\\n",
       "0  /organization/all-def-digital  All Def Digital         Media          USA   \n",
       "1      /organization/audiosocket      Audiosocket         Media          USA   \n",
       "2      /organization/audiosocket      Audiosocket         Media          USA   \n",
       "3      /organization/audiosocket      Audiosocket         Media          USA   \n",
       "4           /organization/babble           Babble         Media          USA   \n",
       "\n",
       "  funding_round_type  raised_amount_usd    main_sector  \n",
       "0            venture          5000000.0  Entertainment  \n",
       "1            venture           650000.0  Entertainment  \n",
       "2            venture           750000.0  Entertainment  \n",
       "3            venture          1582300.0  Entertainment  \n",
       "4            venture          2000000.0  Entertainment  "
      ]
     },
     "execution_count": 84,
     "metadata": {},
     "output_type": "execute_result"
    }
   ],
   "source": [
    "D1.head()"
   ]
  },
  {
   "cell_type": "code",
   "execution_count": 85,
   "id": "fa984031",
   "metadata": {},
   "outputs": [
    {
     "data": {
      "text/html": [
       "<div>\n",
       "<style scoped>\n",
       "    .dataframe tbody tr th:only-of-type {\n",
       "        vertical-align: middle;\n",
       "    }\n",
       "\n",
       "    .dataframe tbody tr th {\n",
       "        vertical-align: top;\n",
       "    }\n",
       "\n",
       "    .dataframe thead th {\n",
       "        text-align: right;\n",
       "    }\n",
       "</style>\n",
       "<table border=\"1\" class=\"dataframe\">\n",
       "  <thead>\n",
       "    <tr style=\"text-align: right;\">\n",
       "      <th></th>\n",
       "      <th>permalink</th>\n",
       "      <th>name</th>\n",
       "      <th>category_list</th>\n",
       "      <th>country_code</th>\n",
       "      <th>funding_round_type</th>\n",
       "      <th>raised_amount_usd</th>\n",
       "      <th>main_sector</th>\n",
       "    </tr>\n",
       "  </thead>\n",
       "  <tbody>\n",
       "    <tr>\n",
       "      <th>0</th>\n",
       "      <td>/organization/90min</td>\n",
       "      <td>90min</td>\n",
       "      <td>Media</td>\n",
       "      <td>GBR</td>\n",
       "      <td>venture</td>\n",
       "      <td>15000000.0</td>\n",
       "      <td>Entertainment</td>\n",
       "    </tr>\n",
       "    <tr>\n",
       "      <th>1</th>\n",
       "      <td>/organization/90min</td>\n",
       "      <td>90min</td>\n",
       "      <td>Media</td>\n",
       "      <td>GBR</td>\n",
       "      <td>venture</td>\n",
       "      <td>5800000.0</td>\n",
       "      <td>Entertainment</td>\n",
       "    </tr>\n",
       "    <tr>\n",
       "      <th>2</th>\n",
       "      <td>/organization/90min</td>\n",
       "      <td>90min</td>\n",
       "      <td>Media</td>\n",
       "      <td>GBR</td>\n",
       "      <td>venture</td>\n",
       "      <td>18000000.0</td>\n",
       "      <td>Entertainment</td>\n",
       "    </tr>\n",
       "    <tr>\n",
       "      <th>3</th>\n",
       "      <td>/organization/teepix</td>\n",
       "      <td>Teepix</td>\n",
       "      <td>Media</td>\n",
       "      <td>GBR</td>\n",
       "      <td>venture</td>\n",
       "      <td>1655405.0</td>\n",
       "      <td>Entertainment</td>\n",
       "    </tr>\n",
       "    <tr>\n",
       "      <th>4</th>\n",
       "      <td>/organization/31dover</td>\n",
       "      <td>31Dover</td>\n",
       "      <td>E-Commerce</td>\n",
       "      <td>GBR</td>\n",
       "      <td>venture</td>\n",
       "      <td>2274716.0</td>\n",
       "      <td>Others</td>\n",
       "    </tr>\n",
       "  </tbody>\n",
       "</table>\n",
       "</div>"
      ],
      "text/plain": [
       "               permalink     name category_list country_code  \\\n",
       "0    /organization/90min    90min         Media          GBR   \n",
       "1    /organization/90min    90min         Media          GBR   \n",
       "2    /organization/90min    90min         Media          GBR   \n",
       "3   /organization/teepix   Teepix         Media          GBR   \n",
       "4  /organization/31dover  31Dover    E-Commerce          GBR   \n",
       "\n",
       "  funding_round_type  raised_amount_usd    main_sector  \n",
       "0            venture         15000000.0  Entertainment  \n",
       "1            venture          5800000.0  Entertainment  \n",
       "2            venture         18000000.0  Entertainment  \n",
       "3            venture          1655405.0  Entertainment  \n",
       "4            venture          2274716.0         Others  "
      ]
     },
     "execution_count": 85,
     "metadata": {},
     "output_type": "execute_result"
    }
   ],
   "source": [
    "D2.head()"
   ]
  },
  {
   "cell_type": "code",
   "execution_count": 86,
   "id": "59b75392",
   "metadata": {},
   "outputs": [
    {
     "data": {
      "text/html": [
       "<div>\n",
       "<style scoped>\n",
       "    .dataframe tbody tr th:only-of-type {\n",
       "        vertical-align: middle;\n",
       "    }\n",
       "\n",
       "    .dataframe tbody tr th {\n",
       "        vertical-align: top;\n",
       "    }\n",
       "\n",
       "    .dataframe thead th {\n",
       "        text-align: right;\n",
       "    }\n",
       "</style>\n",
       "<table border=\"1\" class=\"dataframe\">\n",
       "  <thead>\n",
       "    <tr style=\"text-align: right;\">\n",
       "      <th></th>\n",
       "      <th>permalink</th>\n",
       "      <th>name</th>\n",
       "      <th>category_list</th>\n",
       "      <th>country_code</th>\n",
       "      <th>funding_round_type</th>\n",
       "      <th>raised_amount_usd</th>\n",
       "      <th>main_sector</th>\n",
       "    </tr>\n",
       "  </thead>\n",
       "  <tbody>\n",
       "    <tr>\n",
       "      <th>0</th>\n",
       "      <td>/organization/-fame</td>\n",
       "      <td>#fame</td>\n",
       "      <td>Media</td>\n",
       "      <td>IND</td>\n",
       "      <td>venture</td>\n",
       "      <td>10000000.0</td>\n",
       "      <td>Entertainment</td>\n",
       "    </tr>\n",
       "    <tr>\n",
       "      <th>1</th>\n",
       "      <td>/organization/manas-informatics</td>\n",
       "      <td>Manas Informatic</td>\n",
       "      <td>Media</td>\n",
       "      <td>IND</td>\n",
       "      <td>venture</td>\n",
       "      <td>160000.0</td>\n",
       "      <td>Entertainment</td>\n",
       "    </tr>\n",
       "    <tr>\n",
       "      <th>2</th>\n",
       "      <td>/organization/21diamonds-india</td>\n",
       "      <td>21Diamonds</td>\n",
       "      <td>E-Commerce</td>\n",
       "      <td>IND</td>\n",
       "      <td>venture</td>\n",
       "      <td>6369507.0</td>\n",
       "      <td>Others</td>\n",
       "    </tr>\n",
       "    <tr>\n",
       "      <th>3</th>\n",
       "      <td>/organization/agrostar</td>\n",
       "      <td>Agrostar</td>\n",
       "      <td>E-Commerce</td>\n",
       "      <td>IND</td>\n",
       "      <td>venture</td>\n",
       "      <td>4000000.0</td>\n",
       "      <td>Others</td>\n",
       "    </tr>\n",
       "    <tr>\n",
       "      <th>4</th>\n",
       "      <td>/organization/au-financiers</td>\n",
       "      <td>Au FINANCIERS</td>\n",
       "      <td>E-Commerce</td>\n",
       "      <td>IND</td>\n",
       "      <td>venture</td>\n",
       "      <td>21000000.0</td>\n",
       "      <td>Others</td>\n",
       "    </tr>\n",
       "  </tbody>\n",
       "</table>\n",
       "</div>"
      ],
      "text/plain": [
       "                         permalink              name category_list  \\\n",
       "0              /organization/-fame             #fame         Media   \n",
       "1  /organization/manas-informatics  Manas Informatic         Media   \n",
       "2   /organization/21diamonds-india        21Diamonds    E-Commerce   \n",
       "3           /organization/agrostar          Agrostar    E-Commerce   \n",
       "4      /organization/au-financiers     Au FINANCIERS    E-Commerce   \n",
       "\n",
       "  country_code funding_round_type  raised_amount_usd    main_sector  \n",
       "0          IND            venture         10000000.0  Entertainment  \n",
       "1          IND            venture           160000.0  Entertainment  \n",
       "2          IND            venture          6369507.0         Others  \n",
       "3          IND            venture          4000000.0         Others  \n",
       "4          IND            venture         21000000.0         Others  "
      ]
     },
     "execution_count": 86,
     "metadata": {},
     "output_type": "execute_result"
    }
   ],
   "source": [
    "D3.head()"
   ]
  },
  {
   "cell_type": "markdown",
   "id": "0a4abf9d",
   "metadata": {},
   "source": [
    "# The total number (or count) of investments for each main sector in a separate column\n",
    " "
   ]
  },
  {
   "cell_type": "code",
   "execution_count": 87,
   "id": "1bad154d",
   "metadata": {},
   "outputs": [],
   "source": [
    "# USA\n",
    "abc1_1=D1.groupby('main_sector')['raised_amount_usd'].count().sort_values(ascending=False).to_frame().reset_index()\n"
   ]
  },
  {
   "cell_type": "code",
   "execution_count": 100,
   "id": "d0a07622",
   "metadata": {},
   "outputs": [
    {
     "data": {
      "text/html": [
       "<div>\n",
       "<style scoped>\n",
       "    .dataframe tbody tr th:only-of-type {\n",
       "        vertical-align: middle;\n",
       "    }\n",
       "\n",
       "    .dataframe tbody tr th {\n",
       "        vertical-align: top;\n",
       "    }\n",
       "\n",
       "    .dataframe thead th {\n",
       "        text-align: right;\n",
       "    }\n",
       "</style>\n",
       "<table border=\"1\" class=\"dataframe\">\n",
       "  <thead>\n",
       "    <tr style=\"text-align: right;\">\n",
       "      <th></th>\n",
       "      <th>main_sector</th>\n",
       "      <th>raised_amount_usd</th>\n",
       "    </tr>\n",
       "  </thead>\n",
       "  <tbody>\n",
       "    <tr>\n",
       "      <th>0</th>\n",
       "      <td>Others</td>\n",
       "      <td>8310</td>\n",
       "    </tr>\n",
       "    <tr>\n",
       "      <th>1</th>\n",
       "      <td>Cleantech / Semiconductors</td>\n",
       "      <td>7857</td>\n",
       "    </tr>\n",
       "    <tr>\n",
       "      <th>2</th>\n",
       "      <td>Social, Finance, Analytics, Advertising</td>\n",
       "      <td>7246</td>\n",
       "    </tr>\n",
       "    <tr>\n",
       "      <th>3</th>\n",
       "      <td>News, Search and Messaging</td>\n",
       "      <td>4350</td>\n",
       "    </tr>\n",
       "    <tr>\n",
       "      <th>4</th>\n",
       "      <td>Health</td>\n",
       "      <td>3269</td>\n",
       "    </tr>\n",
       "    <tr>\n",
       "      <th>5</th>\n",
       "      <td>Manufacturing</td>\n",
       "      <td>2453</td>\n",
       "    </tr>\n",
       "    <tr>\n",
       "      <th>6</th>\n",
       "      <td>Entertainment</td>\n",
       "      <td>1794</td>\n",
       "    </tr>\n",
       "    <tr>\n",
       "      <th>7</th>\n",
       "      <td>Automotive &amp; Sports</td>\n",
       "      <td>505</td>\n",
       "    </tr>\n",
       "  </tbody>\n",
       "</table>\n",
       "</div>"
      ],
      "text/plain": [
       "                               main_sector  raised_amount_usd\n",
       "0                                   Others               8310\n",
       "1               Cleantech / Semiconductors               7857\n",
       "2  Social, Finance, Analytics, Advertising               7246\n",
       "3               News, Search and Messaging               4350\n",
       "4                                   Health               3269\n",
       "5                            Manufacturing               2453\n",
       "6                            Entertainment               1794\n",
       "7                      Automotive & Sports                505"
      ]
     },
     "execution_count": 100,
     "metadata": {},
     "output_type": "execute_result"
    }
   ],
   "source": [
    "abc1_1"
   ]
  },
  {
   "cell_type": "code",
   "execution_count": 88,
   "id": "ed0e027a",
   "metadata": {},
   "outputs": [
    {
     "data": {
      "text/html": [
       "<div>\n",
       "<style scoped>\n",
       "    .dataframe tbody tr th:only-of-type {\n",
       "        vertical-align: middle;\n",
       "    }\n",
       "\n",
       "    .dataframe tbody tr th {\n",
       "        vertical-align: top;\n",
       "    }\n",
       "\n",
       "    .dataframe thead th {\n",
       "        text-align: right;\n",
       "    }\n",
       "</style>\n",
       "<table border=\"1\" class=\"dataframe\">\n",
       "  <thead>\n",
       "    <tr style=\"text-align: right;\">\n",
       "      <th></th>\n",
       "      <th>main_sector</th>\n",
       "      <th>raised_amount_usd</th>\n",
       "    </tr>\n",
       "  </thead>\n",
       "  <tbody>\n",
       "    <tr>\n",
       "      <th>0</th>\n",
       "      <td>Others</td>\n",
       "      <td>516</td>\n",
       "    </tr>\n",
       "    <tr>\n",
       "      <th>1</th>\n",
       "      <td>Cleantech / Semiconductors</td>\n",
       "      <td>437</td>\n",
       "    </tr>\n",
       "    <tr>\n",
       "      <th>2</th>\n",
       "      <td>Social, Finance, Analytics, Advertising</td>\n",
       "      <td>421</td>\n",
       "    </tr>\n",
       "    <tr>\n",
       "      <th>3</th>\n",
       "      <td>News, Search and Messaging</td>\n",
       "      <td>241</td>\n",
       "    </tr>\n",
       "    <tr>\n",
       "      <th>4</th>\n",
       "      <td>Entertainment</td>\n",
       "      <td>136</td>\n",
       "    </tr>\n",
       "    <tr>\n",
       "      <th>5</th>\n",
       "      <td>Manufacturing</td>\n",
       "      <td>122</td>\n",
       "    </tr>\n",
       "    <tr>\n",
       "      <th>6</th>\n",
       "      <td>Health</td>\n",
       "      <td>118</td>\n",
       "    </tr>\n",
       "    <tr>\n",
       "      <th>7</th>\n",
       "      <td>Automotive &amp; Sports</td>\n",
       "      <td>44</td>\n",
       "    </tr>\n",
       "  </tbody>\n",
       "</table>\n",
       "</div>"
      ],
      "text/plain": [
       "                               main_sector  raised_amount_usd\n",
       "0                                   Others                516\n",
       "1               Cleantech / Semiconductors                437\n",
       "2  Social, Finance, Analytics, Advertising                421\n",
       "3               News, Search and Messaging                241\n",
       "4                            Entertainment                136\n",
       "5                            Manufacturing                122\n",
       "6                                   Health                118\n",
       "7                      Automotive & Sports                 44"
      ]
     },
     "execution_count": 88,
     "metadata": {},
     "output_type": "execute_result"
    }
   ],
   "source": [
    "# GBR\n",
    "D2.groupby('main_sector')['raised_amount_usd'].count().sort_values(ascending=False).to_frame().reset_index()"
   ]
  },
  {
   "cell_type": "code",
   "execution_count": 89,
   "id": "c15b1742",
   "metadata": {},
   "outputs": [
    {
     "data": {
      "text/html": [
       "<div>\n",
       "<style scoped>\n",
       "    .dataframe tbody tr th:only-of-type {\n",
       "        vertical-align: middle;\n",
       "    }\n",
       "\n",
       "    .dataframe tbody tr th {\n",
       "        vertical-align: top;\n",
       "    }\n",
       "\n",
       "    .dataframe thead th {\n",
       "        text-align: right;\n",
       "    }\n",
       "</style>\n",
       "<table border=\"1\" class=\"dataframe\">\n",
       "  <thead>\n",
       "    <tr style=\"text-align: right;\">\n",
       "      <th></th>\n",
       "      <th>main_sector</th>\n",
       "      <th>raised_amount_usd</th>\n",
       "    </tr>\n",
       "  </thead>\n",
       "  <tbody>\n",
       "    <tr>\n",
       "      <th>0</th>\n",
       "      <td>Others</td>\n",
       "      <td>284</td>\n",
       "    </tr>\n",
       "    <tr>\n",
       "      <th>1</th>\n",
       "      <td>Social, Finance, Analytics, Advertising</td>\n",
       "      <td>147</td>\n",
       "    </tr>\n",
       "    <tr>\n",
       "      <th>2</th>\n",
       "      <td>News, Search and Messaging</td>\n",
       "      <td>130</td>\n",
       "    </tr>\n",
       "    <tr>\n",
       "      <th>3</th>\n",
       "      <td>Entertainment</td>\n",
       "      <td>76</td>\n",
       "    </tr>\n",
       "    <tr>\n",
       "      <th>4</th>\n",
       "      <td>Manufacturing</td>\n",
       "      <td>55</td>\n",
       "    </tr>\n",
       "    <tr>\n",
       "      <th>5</th>\n",
       "      <td>Cleantech / Semiconductors</td>\n",
       "      <td>54</td>\n",
       "    </tr>\n",
       "    <tr>\n",
       "      <th>6</th>\n",
       "      <td>Health</td>\n",
       "      <td>42</td>\n",
       "    </tr>\n",
       "    <tr>\n",
       "      <th>7</th>\n",
       "      <td>Automotive &amp; Sports</td>\n",
       "      <td>31</td>\n",
       "    </tr>\n",
       "  </tbody>\n",
       "</table>\n",
       "</div>"
      ],
      "text/plain": [
       "                               main_sector  raised_amount_usd\n",
       "0                                   Others                284\n",
       "1  Social, Finance, Analytics, Advertising                147\n",
       "2               News, Search and Messaging                130\n",
       "3                            Entertainment                 76\n",
       "4                            Manufacturing                 55\n",
       "5               Cleantech / Semiconductors                 54\n",
       "6                                   Health                 42\n",
       "7                      Automotive & Sports                 31"
      ]
     },
     "execution_count": 89,
     "metadata": {},
     "output_type": "execute_result"
    }
   ],
   "source": [
    "# IND\n",
    "D3.groupby('main_sector')['raised_amount_usd'].count().sort_values(ascending=False).to_frame().reset_index()"
   ]
  },
  {
   "cell_type": "markdown",
   "id": "72f19690",
   "metadata": {},
   "source": [
    "#  The total amount invested in each main sector in a separate column\n"
   ]
  },
  {
   "cell_type": "code",
   "execution_count": 90,
   "id": "124ad51f",
   "metadata": {},
   "outputs": [],
   "source": [
    "# USA\n",
    "abc1=D1.groupby('main_sector')['raised_amount_usd'].sum().sort_values(ascending=False).apply(lambda x:'{:.1f}'.format(x)).to_frame().reset_index()"
   ]
  },
  {
   "cell_type": "code",
   "execution_count": 101,
   "id": "3a406603",
   "metadata": {},
   "outputs": [
    {
     "data": {
      "text/html": [
       "<div>\n",
       "<style scoped>\n",
       "    .dataframe tbody tr th:only-of-type {\n",
       "        vertical-align: middle;\n",
       "    }\n",
       "\n",
       "    .dataframe tbody tr th {\n",
       "        vertical-align: top;\n",
       "    }\n",
       "\n",
       "    .dataframe thead th {\n",
       "        text-align: right;\n",
       "    }\n",
       "</style>\n",
       "<table border=\"1\" class=\"dataframe\">\n",
       "  <thead>\n",
       "    <tr style=\"text-align: right;\">\n",
       "      <th></th>\n",
       "      <th>main_sector</th>\n",
       "      <th>raised_amount_usd</th>\n",
       "    </tr>\n",
       "  </thead>\n",
       "  <tbody>\n",
       "    <tr>\n",
       "      <th>0</th>\n",
       "      <td>Cleantech / Semiconductors</td>\n",
       "      <td>118834869645.0</td>\n",
       "    </tr>\n",
       "    <tr>\n",
       "      <th>1</th>\n",
       "      <td>Social, Finance, Analytics, Advertising</td>\n",
       "      <td>86331402349.0</td>\n",
       "    </tr>\n",
       "    <tr>\n",
       "      <th>2</th>\n",
       "      <td>Others</td>\n",
       "      <td>82796823598.0</td>\n",
       "    </tr>\n",
       "    <tr>\n",
       "      <th>3</th>\n",
       "      <td>News, Search and Messaging</td>\n",
       "      <td>45439636584.0</td>\n",
       "    </tr>\n",
       "    <tr>\n",
       "      <th>4</th>\n",
       "      <td>Health</td>\n",
       "      <td>31675057766.0</td>\n",
       "    </tr>\n",
       "    <tr>\n",
       "      <th>5</th>\n",
       "      <td>Manufacturing</td>\n",
       "      <td>24845319470.0</td>\n",
       "    </tr>\n",
       "    <tr>\n",
       "      <th>6</th>\n",
       "      <td>Entertainment</td>\n",
       "      <td>17014560960.0</td>\n",
       "    </tr>\n",
       "    <tr>\n",
       "      <th>7</th>\n",
       "      <td>Automotive &amp; Sports</td>\n",
       "      <td>11632164696.0</td>\n",
       "    </tr>\n",
       "  </tbody>\n",
       "</table>\n",
       "</div>"
      ],
      "text/plain": [
       "                               main_sector raised_amount_usd\n",
       "0               Cleantech / Semiconductors    118834869645.0\n",
       "1  Social, Finance, Analytics, Advertising     86331402349.0\n",
       "2                                   Others     82796823598.0\n",
       "3               News, Search and Messaging     45439636584.0\n",
       "4                                   Health     31675057766.0\n",
       "5                            Manufacturing     24845319470.0\n",
       "6                            Entertainment     17014560960.0\n",
       "7                      Automotive & Sports     11632164696.0"
      ]
     },
     "execution_count": 101,
     "metadata": {},
     "output_type": "execute_result"
    }
   ],
   "source": [
    "abc1"
   ]
  },
  {
   "cell_type": "code",
   "execution_count": 91,
   "id": "be2442a5",
   "metadata": {},
   "outputs": [],
   "source": [
    "# GBR\n",
    "abc2=D2.groupby('main_sector')['raised_amount_usd'].sum().sort_values(ascending=False).apply(lambda x:'{:.1f}'.format(x)).to_frame().reset_index()"
   ]
  },
  {
   "cell_type": "code",
   "execution_count": 92,
   "id": "cdc7dfb5",
   "metadata": {},
   "outputs": [
    {
     "data": {
      "text/html": [
       "<div>\n",
       "<style scoped>\n",
       "    .dataframe tbody tr th:only-of-type {\n",
       "        vertical-align: middle;\n",
       "    }\n",
       "\n",
       "    .dataframe tbody tr th {\n",
       "        vertical-align: top;\n",
       "    }\n",
       "\n",
       "    .dataframe thead th {\n",
       "        text-align: right;\n",
       "    }\n",
       "</style>\n",
       "<table border=\"1\" class=\"dataframe\">\n",
       "  <thead>\n",
       "    <tr style=\"text-align: right;\">\n",
       "      <th></th>\n",
       "      <th>main_sector</th>\n",
       "      <th>raised_amount_usd</th>\n",
       "    </tr>\n",
       "  </thead>\n",
       "  <tbody>\n",
       "    <tr>\n",
       "      <th>0</th>\n",
       "      <td>Cleantech / Semiconductors</td>\n",
       "      <td>5052849729.0</td>\n",
       "    </tr>\n",
       "    <tr>\n",
       "      <th>1</th>\n",
       "      <td>Others</td>\n",
       "      <td>4492219646.0</td>\n",
       "    </tr>\n",
       "    <tr>\n",
       "      <th>2</th>\n",
       "      <td>Social, Finance, Analytics, Advertising</td>\n",
       "      <td>3773328672.0</td>\n",
       "    </tr>\n",
       "    <tr>\n",
       "      <th>3</th>\n",
       "      <td>News, Search and Messaging</td>\n",
       "      <td>2956023749.0</td>\n",
       "    </tr>\n",
       "    <tr>\n",
       "      <th>4</th>\n",
       "      <td>Entertainment</td>\n",
       "      <td>1162564878.0</td>\n",
       "    </tr>\n",
       "    <tr>\n",
       "      <th>5</th>\n",
       "      <td>Health</td>\n",
       "      <td>1046654806.0</td>\n",
       "    </tr>\n",
       "    <tr>\n",
       "      <th>6</th>\n",
       "      <td>Manufacturing</td>\n",
       "      <td>1019283214.0</td>\n",
       "    </tr>\n",
       "    <tr>\n",
       "      <th>7</th>\n",
       "      <td>Automotive &amp; Sports</td>\n",
       "      <td>480878712.0</td>\n",
       "    </tr>\n",
       "  </tbody>\n",
       "</table>\n",
       "</div>"
      ],
      "text/plain": [
       "                               main_sector raised_amount_usd\n",
       "0               Cleantech / Semiconductors      5052849729.0\n",
       "1                                   Others      4492219646.0\n",
       "2  Social, Finance, Analytics, Advertising      3773328672.0\n",
       "3               News, Search and Messaging      2956023749.0\n",
       "4                            Entertainment      1162564878.0\n",
       "5                                   Health      1046654806.0\n",
       "6                            Manufacturing      1019283214.0\n",
       "7                      Automotive & Sports       480878712.0"
      ]
     },
     "execution_count": 92,
     "metadata": {},
     "output_type": "execute_result"
    }
   ],
   "source": [
    "abc2"
   ]
  },
  {
   "cell_type": "code",
   "execution_count": 93,
   "id": "e8820682",
   "metadata": {},
   "outputs": [],
   "source": [
    "# IND\n",
    "abc3=D3.groupby('main_sector')['raised_amount_usd'].sum().sort_values(ascending=False).apply(lambda x:'{:.1f}'.format(x)).to_frame().reset_index()"
   ]
  },
  {
   "cell_type": "code",
   "execution_count": 102,
   "id": "53cf0bb0",
   "metadata": {},
   "outputs": [
    {
     "data": {
      "text/html": [
       "<div>\n",
       "<style scoped>\n",
       "    .dataframe tbody tr th:only-of-type {\n",
       "        vertical-align: middle;\n",
       "    }\n",
       "\n",
       "    .dataframe tbody tr th {\n",
       "        vertical-align: top;\n",
       "    }\n",
       "\n",
       "    .dataframe thead th {\n",
       "        text-align: right;\n",
       "    }\n",
       "</style>\n",
       "<table border=\"1\" class=\"dataframe\">\n",
       "  <thead>\n",
       "    <tr style=\"text-align: right;\">\n",
       "      <th></th>\n",
       "      <th>main_sector</th>\n",
       "      <th>raised_amount_usd</th>\n",
       "    </tr>\n",
       "  </thead>\n",
       "  <tbody>\n",
       "    <tr>\n",
       "      <th>0</th>\n",
       "      <td>Others</td>\n",
       "      <td>6329507440.0</td>\n",
       "    </tr>\n",
       "    <tr>\n",
       "      <th>1</th>\n",
       "      <td>News, Search and Messaging</td>\n",
       "      <td>1739579948.0</td>\n",
       "    </tr>\n",
       "    <tr>\n",
       "      <th>2</th>\n",
       "      <td>Social, Finance, Analytics, Advertising</td>\n",
       "      <td>1578804920.0</td>\n",
       "    </tr>\n",
       "    <tr>\n",
       "      <th>3</th>\n",
       "      <td>Automotive &amp; Sports</td>\n",
       "      <td>1556350000.0</td>\n",
       "    </tr>\n",
       "    <tr>\n",
       "      <th>4</th>\n",
       "      <td>Entertainment</td>\n",
       "      <td>976191777.0</td>\n",
       "    </tr>\n",
       "    <tr>\n",
       "      <th>5</th>\n",
       "      <td>Cleantech / Semiconductors</td>\n",
       "      <td>786444633.0</td>\n",
       "    </tr>\n",
       "    <tr>\n",
       "      <th>6</th>\n",
       "      <td>Manufacturing</td>\n",
       "      <td>730260000.0</td>\n",
       "    </tr>\n",
       "    <tr>\n",
       "      <th>7</th>\n",
       "      <td>Health</td>\n",
       "      <td>564370000.0</td>\n",
       "    </tr>\n",
       "  </tbody>\n",
       "</table>\n",
       "</div>"
      ],
      "text/plain": [
       "                               main_sector raised_amount_usd\n",
       "0                                   Others      6329507440.0\n",
       "1               News, Search and Messaging      1739579948.0\n",
       "2  Social, Finance, Analytics, Advertising      1578804920.0\n",
       "3                      Automotive & Sports      1556350000.0\n",
       "4                            Entertainment       976191777.0\n",
       "5               Cleantech / Semiconductors       786444633.0\n",
       "6                            Manufacturing       730260000.0\n",
       "7                                   Health       564370000.0"
      ]
     },
     "execution_count": 102,
     "metadata": {},
     "output_type": "execute_result"
    }
   ],
   "source": [
    "abc3"
   ]
  },
  {
   "cell_type": "code",
   "execution_count": 95,
   "id": "f39d4abc",
   "metadata": {},
   "outputs": [],
   "source": [
    "data1=abc1.head(3)\n",
    "data2=abc2.head(3)\n",
    "data3=abc3.head(3)"
   ]
  },
  {
   "cell_type": "code",
   "execution_count": 96,
   "id": "f767f46c",
   "metadata": {},
   "outputs": [],
   "source": [
    "english_df=english_df.head(10)\n"
   ]
  },
  {
   "cell_type": "markdown",
   "id": "8aafc7b5",
   "metadata": {},
   "source": [
    "# Visualizations"
   ]
  },
  {
   "cell_type": "code",
   "execution_count": 109,
   "id": "fb83c7ba",
   "metadata": {},
   "outputs": [
    {
     "data": {
      "text/html": [
       "<div>\n",
       "<style scoped>\n",
       "    .dataframe tbody tr th:only-of-type {\n",
       "        vertical-align: middle;\n",
       "    }\n",
       "\n",
       "    .dataframe tbody tr th {\n",
       "        vertical-align: top;\n",
       "    }\n",
       "\n",
       "    .dataframe thead th {\n",
       "        text-align: right;\n",
       "    }\n",
       "</style>\n",
       "<table border=\"1\" class=\"dataframe\">\n",
       "  <thead>\n",
       "    <tr style=\"text-align: right;\">\n",
       "      <th></th>\n",
       "      <th>funding_round_type</th>\n",
       "      <th>raised_amount_usd</th>\n",
       "    </tr>\n",
       "  </thead>\n",
       "  <tbody>\n",
       "    <tr>\n",
       "      <th>0</th>\n",
       "      <td>private_equity</td>\n",
       "      <td>18.95</td>\n",
       "    </tr>\n",
       "    <tr>\n",
       "      <th>1</th>\n",
       "      <td>seed</td>\n",
       "      <td>2.27</td>\n",
       "    </tr>\n",
       "    <tr>\n",
       "      <th>2</th>\n",
       "      <td>venture</td>\n",
       "      <td>78.78</td>\n",
       "    </tr>\n",
       "  </tbody>\n",
       "</table>\n",
       "</div>"
      ],
      "text/plain": [
       "  funding_round_type  raised_amount_usd\n",
       "0     private_equity              18.95\n",
       "1               seed               2.27\n",
       "2            venture              78.78"
      ]
     },
     "execution_count": 109,
     "metadata": {},
     "output_type": "execute_result"
    }
   ],
   "source": [
    "#extract funding type from the master frame and group data for visualizations\n",
    "funding_type = ['private_equity','seed','venture']\n",
    "master_frame=master_frame[master_frame['funding_round_type'].isin(funding_type)]\n",
    "master_group_plot=master_frame.groupby(by='funding_round_type')\n",
    "df_plot1 = pd.DataFrame(master_group_plot['raised_amount_usd'].sum())\n",
    "#master_group_plot_2=master_frame.groupby(by='funding_round_type')\n",
    "df_plot2=pd.DataFrame(master_group_plot['raised_amount_usd'].mean())\n",
    "\n",
    "fraction_df = pd.DataFrame(round(100*(df_plot1['raised_amount_usd'])/sum(df_plot1['raised_amount_usd']),2))\n",
    "fraction_df.reset_index()"
   ]
  },
  {
   "cell_type": "markdown",
   "id": "468190a0",
   "metadata": {},
   "source": [
    "### A plot showing the fraction of total investments (globally) in venture, seed, and private equity, and the average amount of investment in each funding type."
   ]
  },
  {
   "cell_type": "code",
   "execution_count": 110,
   "id": "10913cca",
   "metadata": {},
   "outputs": [
    {
     "data": {
      "image/png": "[encoded data removed]",
      "text/plain": [
       "<Figure size 1152x432 with 2 Axes>"
      ]
     },
     "metadata": {},
     "output_type": "display_data"
    }
   ],
   "source": [
    "sb.set(style=\"darkgrid\")\n",
    "plt.figure(figsize=(16,6))\n",
    "plt.subplot(1, 2, 1)\n",
    "ax = sb.barplot(x=fraction_df.index,y='raised_amount_usd',data=fraction_df,ci=None)\n",
    "ax.set(xlabel='INVESTMENT TYPE', ylabel='% of TOTAL RAISED AMOUNT USD',title='TOTAL INVESTMENT GLOBALLY')\n",
    "#plt.yscale('log')\n",
    "plt.subplot(1, 2, 2)\n",
    "ax = sb.barplot(x=df_plot2.index,y='raised_amount_usd',data=df_plot2,ci=None,)\n",
    "ax.set(xlabel='INVESTMENT TYPE', ylabel='AVG. RAISED AMOUNT USD',title='AVERAGE FUNDING GLOBALLY')\n",
    "plt.yscale('log')\n",
    "plt.show()"
   ]
  },
  {
   "cell_type": "markdown",
   "id": "f7a7617b",
   "metadata": {},
   "source": [
    "### A plot showing the top 9 countries against the total amount of investments of funding type FT."
   ]
  },
  {
   "cell_type": "code",
   "execution_count": 115,
   "id": "93f64f38",
   "metadata": {},
   "outputs": [],
   "source": [
    "d1=english_df['raised_amount_usd'].apply(lambda x:x.split('.')[0])\n",
    "d1_int=[]\n",
    "for i in d1:\n",
    "    d1_int.append(int(i))\n",
    "english_df[\"val\"]=d1_int"
   ]
  },
  {
   "cell_type": "code",
   "execution_count": 123,
   "id": "af0646e7",
   "metadata": {},
   "outputs": [
    {
     "data": {
      "text/plain": [
       "<Figure size 720x1152 with 0 Axes>"
      ]
     },
     "metadata": {},
     "output_type": "display_data"
    },
    {
     "data": {
      "image/png": "[encoded data removed]",
      "text/plain": [
       "<Figure size 360x360 with 1 Axes>"
      ]
     },
     "metadata": {},
     "output_type": "display_data"
    }
   ],
   "source": [
    "plt.figure(figsize=(10,16))\n",
    "\n",
    "sb.catplot(x='country_code',y='val',data=english_df,kind='bar',palette='Blues_r',)\n",
    "plt.xticks(rotation=90)\n",
    "\n",
    "plt.yscale('log')\n",
    "plt.show()"
   ]
  },
  {
   "cell_type": "markdown",
   "id": "3b4ed70a",
   "metadata": {},
   "source": [
    "### A plot showing the number of investments in the top 3 sectors of the top 3 countries"
   ]
  },
  {
   "cell_type": "code",
   "execution_count": 113,
   "id": "45b92155",
   "metadata": {},
   "outputs": [],
   "source": [
    "v=data1['raised_amount_usd'].apply(lambda x:x.split('.')[0])\n",
    "v_int=[]\n",
    "for i in v:\n",
    "    v_int.append(int(i))\n",
    "    \n",
    "v2=data2['raised_amount_usd'].apply(lambda x:x.split('.')[0])\n",
    "v_int2=[]\n",
    "for i in v2:\n",
    "    v_int2.append(int(i))\n",
    "    \n",
    "v3=data3['raised_amount_usd'].apply(lambda x:x.split('.')[0])\n",
    "v_int3=[]\n",
    "for i in v3:\n",
    "    v_int3.append(int(i))"
   ]
  },
  {
   "cell_type": "code",
   "execution_count": 114,
   "id": "92dcdf57",
   "metadata": {},
   "outputs": [
    {
     "data": {
      "image/png": "[encoded data removed]",
      "text/plain": [
       "<Figure size 1080x360 with 3 Axes>"
      ]
     },
     "metadata": {},
     "output_type": "display_data"
    }
   ],
   "source": [
    "plt.figure(figsize=(15,5))\n",
    "plt.subplot(131)\n",
    "sb.barplot(data1[\"main_sector\"],y=v_int,color=\"navy\")\n",
    "plt.title(\"USA\")\n",
    "plt.xticks(rotation=90)\n",
    "\n",
    "plt.subplot(132)\n",
    "sb.barplot(data2[\"main_sector\"],y=v_int2,color=\"navy\")\n",
    "plt.title(\"GBR\")\n",
    "plt.xticks(rotation=90)\n",
    "\n",
    "\n",
    "\n",
    "plt.subplot(133)\n",
    "sb.barplot(data3[\"main_sector\"],y=v_int3,color=\"navy\")\n",
    "plt.title(\"IND\")\n",
    "plt.xticks(rotation=90)\n",
    "plt.show()"
   ]
  },
  {
   "cell_type": "code",
   "execution_count": null,
   "id": "8754f7ff",
   "metadata": {},
   "outputs": [],
   "source": []
  }
 ],
 "metadata": {
  "kernelspec": {
   "display_name": "Python 3 (ipykernel)",
   "language": "python",
   "name": "python3"
  },
  "language_info": {
   "codemirror_mode": {
    "name": "ipython",
    "version": 3
   },
   "file_extension": ".py",
   "mimetype": "text/x-python",
   "name": "python",
   "nbconvert_exporter": "python",
   "pygments_lexer": "ipython3",
   "version": "3.9.12"
  }
 },
 "nbformat": 4,
 "nbformat_minor": 5
}
